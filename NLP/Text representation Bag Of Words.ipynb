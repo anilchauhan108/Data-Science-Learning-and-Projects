{
 "cells": [
  {
   "cell_type": "code",
   "execution_count": 73,
   "id": "ad2a1d46",
   "metadata": {},
   "outputs": [],
   "source": [
    "# Frequency of word occurence is Bag Of words\n",
    "\n",
    "# limitations of BOW\n",
    "# i) vocabulary size may be 10000 and that might lead the text representation to be long, consuming lots of memory\n",
    "# ii) Sparse Representation - will contain lots of 0's in the vector, consumes lots or memory and resources\n",
    "# iii) doesn't capture meaning of words, as different sentences will have different words which will lead to different kind of \n",
    "# text representation(vector)"
   ]
  },
  {
   "cell_type": "code",
   "execution_count": 74,
   "id": "54f9c3c3",
   "metadata": {},
   "outputs": [],
   "source": [
    "import pandas as pd\n",
    "import numpy as np"
   ]
  },
  {
   "cell_type": "code",
   "execution_count": 75,
   "id": "b7b418cd",
   "metadata": {},
   "outputs": [],
   "source": [
    "df = pd.read_csv('C:\\DS practice\\spam.csv')"
   ]
  },
  {
   "cell_type": "code",
   "execution_count": 76,
   "id": "2b386268",
   "metadata": {},
   "outputs": [
    {
     "data": {
      "text/html": [
       "<div>\n",
       "<style scoped>\n",
       "    .dataframe tbody tr th:only-of-type {\n",
       "        vertical-align: middle;\n",
       "    }\n",
       "\n",
       "    .dataframe tbody tr th {\n",
       "        vertical-align: top;\n",
       "    }\n",
       "\n",
       "    .dataframe thead th {\n",
       "        text-align: right;\n",
       "    }\n",
       "</style>\n",
       "<table border=\"1\" class=\"dataframe\">\n",
       "  <thead>\n",
       "    <tr style=\"text-align: right;\">\n",
       "      <th></th>\n",
       "      <th>Category</th>\n",
       "      <th>Message</th>\n",
       "    </tr>\n",
       "  </thead>\n",
       "  <tbody>\n",
       "    <tr>\n",
       "      <th>0</th>\n",
       "      <td>ham</td>\n",
       "      <td>Go until jurong point, crazy.. Available only ...</td>\n",
       "    </tr>\n",
       "    <tr>\n",
       "      <th>1</th>\n",
       "      <td>ham</td>\n",
       "      <td>Ok lar... Joking wif u oni...</td>\n",
       "    </tr>\n",
       "    <tr>\n",
       "      <th>2</th>\n",
       "      <td>spam</td>\n",
       "      <td>Free entry in 2 a wkly comp to win FA Cup fina...</td>\n",
       "    </tr>\n",
       "    <tr>\n",
       "      <th>3</th>\n",
       "      <td>ham</td>\n",
       "      <td>U dun say so early hor... U c already then say...</td>\n",
       "    </tr>\n",
       "    <tr>\n",
       "      <th>4</th>\n",
       "      <td>ham</td>\n",
       "      <td>Nah I don't think he goes to usf, he lives aro...</td>\n",
       "    </tr>\n",
       "  </tbody>\n",
       "</table>\n",
       "</div>"
      ],
      "text/plain": [
       "  Category                                            Message\n",
       "0      ham  Go until jurong point, crazy.. Available only ...\n",
       "1      ham                      Ok lar... Joking wif u oni...\n",
       "2     spam  Free entry in 2 a wkly comp to win FA Cup fina...\n",
       "3      ham  U dun say so early hor... U c already then say...\n",
       "4      ham  Nah I don't think he goes to usf, he lives aro..."
      ]
     },
     "execution_count": 76,
     "metadata": {},
     "output_type": "execute_result"
    }
   ],
   "source": [
    "df.head()"
   ]
  },
  {
   "cell_type": "code",
   "execution_count": 77,
   "id": "16ac93a8",
   "metadata": {},
   "outputs": [
    {
     "data": {
      "text/plain": [
       "Category\n",
       "ham     4825\n",
       "spam     747\n",
       "Name: count, dtype: int64"
      ]
     },
     "execution_count": 77,
     "metadata": {},
     "output_type": "execute_result"
    }
   ],
   "source": [
    "df.Category.value_counts()"
   ]
  },
  {
   "cell_type": "markdown",
   "id": "50bf2925",
   "metadata": {},
   "source": [
    "##### def get_spam_number(x):\n",
    "    if x == 'spam':\n",
    "        return 1\n",
    "    else:\n",
    "        return 0\n",
    "df['spam'] = df.Category.apply(get_spam_number) "
   ]
  },
  {
   "cell_type": "code",
   "execution_count": 78,
   "id": "740de9bf",
   "metadata": {},
   "outputs": [],
   "source": [
    "df['spam'] = df.Category.apply(lambda x : 1 if x == 'spam' else 0)"
   ]
  },
  {
   "cell_type": "code",
   "execution_count": 79,
   "id": "d5d4989f",
   "metadata": {},
   "outputs": [
    {
     "data": {
      "text/html": [
       "<div>\n",
       "<style scoped>\n",
       "    .dataframe tbody tr th:only-of-type {\n",
       "        vertical-align: middle;\n",
       "    }\n",
       "\n",
       "    .dataframe tbody tr th {\n",
       "        vertical-align: top;\n",
       "    }\n",
       "\n",
       "    .dataframe thead th {\n",
       "        text-align: right;\n",
       "    }\n",
       "</style>\n",
       "<table border=\"1\" class=\"dataframe\">\n",
       "  <thead>\n",
       "    <tr style=\"text-align: right;\">\n",
       "      <th></th>\n",
       "      <th>Category</th>\n",
       "      <th>Message</th>\n",
       "      <th>spam</th>\n",
       "    </tr>\n",
       "  </thead>\n",
       "  <tbody>\n",
       "    <tr>\n",
       "      <th>0</th>\n",
       "      <td>ham</td>\n",
       "      <td>Go until jurong point, crazy.. Available only ...</td>\n",
       "      <td>0</td>\n",
       "    </tr>\n",
       "    <tr>\n",
       "      <th>1</th>\n",
       "      <td>ham</td>\n",
       "      <td>Ok lar... Joking wif u oni...</td>\n",
       "      <td>0</td>\n",
       "    </tr>\n",
       "    <tr>\n",
       "      <th>2</th>\n",
       "      <td>spam</td>\n",
       "      <td>Free entry in 2 a wkly comp to win FA Cup fina...</td>\n",
       "      <td>1</td>\n",
       "    </tr>\n",
       "    <tr>\n",
       "      <th>3</th>\n",
       "      <td>ham</td>\n",
       "      <td>U dun say so early hor... U c already then say...</td>\n",
       "      <td>0</td>\n",
       "    </tr>\n",
       "    <tr>\n",
       "      <th>4</th>\n",
       "      <td>ham</td>\n",
       "      <td>Nah I don't think he goes to usf, he lives aro...</td>\n",
       "      <td>0</td>\n",
       "    </tr>\n",
       "  </tbody>\n",
       "</table>\n",
       "</div>"
      ],
      "text/plain": [
       "  Category                                            Message  spam\n",
       "0      ham  Go until jurong point, crazy.. Available only ...     0\n",
       "1      ham                      Ok lar... Joking wif u oni...     0\n",
       "2     spam  Free entry in 2 a wkly comp to win FA Cup fina...     1\n",
       "3      ham  U dun say so early hor... U c already then say...     0\n",
       "4      ham  Nah I don't think he goes to usf, he lives aro...     0"
      ]
     },
     "execution_count": 79,
     "metadata": {},
     "output_type": "execute_result"
    }
   ],
   "source": [
    "df.head()"
   ]
  },
  {
   "cell_type": "code",
   "execution_count": 80,
   "id": "24cbaee4",
   "metadata": {},
   "outputs": [],
   "source": [
    "X = df.Message\n",
    "y = df.spam"
   ]
  },
  {
   "cell_type": "code",
   "execution_count": 81,
   "id": "c8859ae6",
   "metadata": {},
   "outputs": [],
   "source": [
    "from sklearn.model_selection import train_test_split\n",
    "\n",
    "X_train, X_test, y_train, y_test = train_test_split(X, y, train_size = 0.8)"
   ]
  },
  {
   "cell_type": "code",
   "execution_count": 82,
   "id": "1d2ee34c",
   "metadata": {},
   "outputs": [
    {
     "data": {
      "text/plain": [
       "1115"
      ]
     },
     "execution_count": 82,
     "metadata": {},
     "output_type": "execute_result"
    }
   ],
   "source": [
    "len(X_test)"
   ]
  },
  {
   "cell_type": "code",
   "execution_count": 83,
   "id": "882de493",
   "metadata": {},
   "outputs": [
    {
     "data": {
      "text/plain": [
       "4457"
      ]
     },
     "execution_count": 83,
     "metadata": {},
     "output_type": "execute_result"
    }
   ],
   "source": [
    "len(X_train)"
   ]
  },
  {
   "cell_type": "code",
   "execution_count": 84,
   "id": "c9484621",
   "metadata": {},
   "outputs": [
    {
     "data": {
      "text/plain": [
       "pandas.core.series.Series"
      ]
     },
     "execution_count": 84,
     "metadata": {},
     "output_type": "execute_result"
    }
   ],
   "source": [
    "type(X_train)"
   ]
  },
  {
   "cell_type": "code",
   "execution_count": 85,
   "id": "fe581d08",
   "metadata": {},
   "outputs": [
    {
     "data": {
      "text/plain": [
       "3820    sorry brah, just finished the last of my exams...\n",
       "1300    Great to hear you are settling well. So what's...\n",
       "4765    Hi.:)technical support.providing assistance to...\n",
       "873                       I'll text you when I drop x off\n",
       "5567    This is the 2nd time we have tried 2 contact u...\n",
       "Name: Message, dtype: object"
      ]
     },
     "execution_count": 85,
     "metadata": {},
     "output_type": "execute_result"
    }
   ],
   "source": [
    "X_train[:5]"
   ]
  },
  {
   "cell_type": "code",
   "execution_count": 87,
   "id": "8a2f167a",
   "metadata": {},
   "outputs": [
    {
     "data": {
      "text/plain": [
       "'sorry brah, just finished the last of my exams, what up'"
      ]
     },
     "execution_count": 87,
     "metadata": {},
     "output_type": "execute_result"
    }
   ],
   "source": [
    "X_train[:5][3820]"
   ]
  },
  {
   "cell_type": "code",
   "execution_count": 88,
   "id": "d15fe319",
   "metadata": {},
   "outputs": [
    {
     "data": {
      "text/plain": [
       "array(['sorry brah, just finished the last of my exams, what up',\n",
       "       \"Great to hear you are settling well. So what's happenin wit ola?\",\n",
       "       'Hi.:)technical support.providing assistance to us customer through call and email:)',\n",
       "       ...,\n",
       "       \"Sorry, I'll call later in meeting any thing related to trade please call Arul. &lt;#&gt;\",\n",
       "       'Me too! Have a lovely night xxx',\n",
       "       \"Yup i'm still having coffee wif my frens... My fren drove she'll give me a lift...\"],\n",
       "      dtype=object)"
      ]
     },
     "execution_count": 88,
     "metadata": {},
     "output_type": "execute_result"
    }
   ],
   "source": [
    "X_train.values"
   ]
  },
  {
   "cell_type": "code",
   "execution_count": 89,
   "id": "4270995d",
   "metadata": {},
   "outputs": [
    {
     "data": {
      "text/plain": [
       "numpy.ndarray"
      ]
     },
     "execution_count": 89,
     "metadata": {},
     "output_type": "execute_result"
    }
   ],
   "source": [
    "type(X_train.values)"
   ]
  },
  {
   "cell_type": "code",
   "execution_count": 90,
   "id": "1533da98",
   "metadata": {},
   "outputs": [
    {
     "data": {
      "text/plain": [
       "<4457x7718 sparse matrix of type '<class 'numpy.int64'>'\n",
       "\twith 58930 stored elements in Compressed Sparse Row format>"
      ]
     },
     "execution_count": 90,
     "metadata": {},
     "output_type": "execute_result"
    }
   ],
   "source": [
    "from sklearn.feature_extraction.text import CountVectorizer\n",
    "\n",
    "v = CountVectorizer()\n",
    "\n",
    "X_train_cv = v.fit_transform(X_train.values)\n",
    "X_train_cv"
   ]
  },
  {
   "cell_type": "code",
   "execution_count": 91,
   "id": "4e437311",
   "metadata": {},
   "outputs": [
    {
     "data": {
      "text/plain": [
       "array([[0, 0, 0, ..., 0, 0, 0],\n",
       "       [0, 0, 0, ..., 0, 0, 0],\n",
       "       [0, 0, 0, ..., 0, 0, 0],\n",
       "       ...,\n",
       "       [0, 0, 0, ..., 0, 0, 0],\n",
       "       [0, 0, 0, ..., 0, 0, 0],\n",
       "       [0, 0, 0, ..., 0, 0, 0]], dtype=int64)"
      ]
     },
     "execution_count": 91,
     "metadata": {},
     "output_type": "execute_result"
    }
   ],
   "source": [
    "X_train_cv.toarray()"
   ]
  },
  {
   "cell_type": "code",
   "execution_count": 92,
   "id": "75dfa541",
   "metadata": {},
   "outputs": [
    {
     "data": {
      "text/plain": [
       "array([0, 0, 0, ..., 0, 0, 0], dtype=int64)"
      ]
     },
     "execution_count": 92,
     "metadata": {},
     "output_type": "execute_result"
    }
   ],
   "source": [
    "X_train_cv.toarray()[:2][0]"
   ]
  },
  {
   "cell_type": "code",
   "execution_count": 93,
   "id": "2b11a9c8",
   "metadata": {},
   "outputs": [
    {
     "data": {
      "text/plain": [
       "(4457, 7718)"
      ]
     },
     "execution_count": 93,
     "metadata": {},
     "output_type": "execute_result"
    }
   ],
   "source": [
    "X_train_cv.shape  #7696 unique words OR unique columns"
   ]
  },
  {
   "cell_type": "code",
   "execution_count": 94,
   "id": "2769a419",
   "metadata": {},
   "outputs": [
    {
     "data": {
      "text/plain": [
       "array(['00', '000', '000pes', ..., 'zyada', 'ú1', '〨ud'], dtype=object)"
      ]
     },
     "execution_count": 94,
     "metadata": {},
     "output_type": "execute_result"
    }
   ],
   "source": [
    "v.get_feature_names_out()"
   ]
  },
  {
   "cell_type": "code",
   "execution_count": 95,
   "id": "d436ac6f",
   "metadata": {},
   "outputs": [
    {
     "data": {
      "text/plain": [
       "array(['anywhere', 'apart', 'apartment', 'apeshit', 'aphex', 'apo',\n",
       "       'apologetic', 'apologise', 'apologize', 'app', 'apparently',\n",
       "       'appendix', 'applausestore', 'applebees', 'apples', 'application',\n",
       "       'apply', 'applyed', 'applying', 'appointment', 'appointments',\n",
       "       'appreciate', 'appreciated', 'approaches', 'approve', 'approved',\n",
       "       'approx', 'apps', 'appt', 'appy', 'april', 'aproach', 'apt',\n",
       "       'aptitude', 'aquarius', 'ar', 'arab', 'arcade', 'archive', 'ard',\n",
       "       'are', 'area', 'aren', 'arent', 'arestaurant', 'aretaking',\n",
       "       'areyouunique', 'argentina', 'argh', 'argue'], dtype=object)"
      ]
     },
     "execution_count": 95,
     "metadata": {},
     "output_type": "execute_result"
    }
   ],
   "source": [
    "v.get_feature_names_out()[1000:1050]"
   ]
  },
  {
   "cell_type": "code",
   "execution_count": 96,
   "id": "082aaf6d",
   "metadata": {},
   "outputs": [
    {
     "data": {
      "text/plain": [
       "(7718,)"
      ]
     },
     "execution_count": 96,
     "metadata": {},
     "output_type": "execute_result"
    }
   ],
   "source": [
    "v.get_feature_names_out().shape"
   ]
  },
  {
   "cell_type": "code",
   "execution_count": 97,
   "id": "d48d6a16",
   "metadata": {
    "scrolled": true
   },
   "outputs": [
    {
     "data": {
      "text/plain": [
       "['__annotations__',\n",
       " '__class__',\n",
       " '__delattr__',\n",
       " '__dict__',\n",
       " '__dir__',\n",
       " '__doc__',\n",
       " '__eq__',\n",
       " '__format__',\n",
       " '__ge__',\n",
       " '__getattribute__',\n",
       " '__getstate__',\n",
       " '__gt__',\n",
       " '__hash__',\n",
       " '__init__',\n",
       " '__init_subclass__',\n",
       " '__le__',\n",
       " '__lt__',\n",
       " '__module__',\n",
       " '__ne__',\n",
       " '__new__',\n",
       " '__reduce__',\n",
       " '__reduce_ex__',\n",
       " '__repr__',\n",
       " '__setattr__',\n",
       " '__setstate__',\n",
       " '__sizeof__',\n",
       " '__str__',\n",
       " '__subclasshook__',\n",
       " '__weakref__',\n",
       " '_char_ngrams',\n",
       " '_char_wb_ngrams',\n",
       " '_check_feature_names',\n",
       " '_check_n_features',\n",
       " '_check_stop_words_consistency',\n",
       " '_check_vocabulary',\n",
       " '_count_vocab',\n",
       " '_get_param_names',\n",
       " '_get_tags',\n",
       " '_limit_features',\n",
       " '_more_tags',\n",
       " '_parameter_constraints',\n",
       " '_repr_html_',\n",
       " '_repr_html_inner',\n",
       " '_repr_mimebundle_',\n",
       " '_sort_features',\n",
       " '_stop_words_id',\n",
       " '_validate_data',\n",
       " '_validate_ngram_range',\n",
       " '_validate_params',\n",
       " '_validate_vocabulary',\n",
       " '_warn_for_unused_params',\n",
       " '_white_spaces',\n",
       " '_word_ngrams',\n",
       " 'analyzer',\n",
       " 'binary',\n",
       " 'build_analyzer',\n",
       " 'build_preprocessor',\n",
       " 'build_tokenizer',\n",
       " 'decode',\n",
       " 'decode_error',\n",
       " 'dtype',\n",
       " 'encoding',\n",
       " 'fit',\n",
       " 'fit_transform',\n",
       " 'fixed_vocabulary_',\n",
       " 'get_feature_names_out',\n",
       " 'get_params',\n",
       " 'get_stop_words',\n",
       " 'input',\n",
       " 'inverse_transform',\n",
       " 'lowercase',\n",
       " 'max_df',\n",
       " 'max_features',\n",
       " 'min_df',\n",
       " 'ngram_range',\n",
       " 'preprocessor',\n",
       " 'set_params',\n",
       " 'stop_words',\n",
       " 'stop_words_',\n",
       " 'strip_accents',\n",
       " 'token_pattern',\n",
       " 'tokenizer',\n",
       " 'transform',\n",
       " 'vocabulary',\n",
       " 'vocabulary_']"
      ]
     },
     "execution_count": 97,
     "metadata": {},
     "output_type": "execute_result"
    }
   ],
   "source": [
    "dir(v)"
   ]
  },
  {
   "cell_type": "code",
   "execution_count": 98,
   "id": "3a889466",
   "metadata": {},
   "outputs": [
    {
     "data": {
      "text/plain": [
       "{'sorry': 6321,\n",
       " 'brah': 1475,\n",
       " 'just': 3862,\n",
       " 'finished': 2864,\n",
       " 'the': 6803,\n",
       " 'last': 4009,\n",
       " 'of': 4882,\n",
       " 'my': 4652,\n",
       " 'exams': 2694,\n",
       " 'what': 7456,\n",
       " 'up': 7161,\n",
       " 'great': 3234,\n",
       " 'to': 6917,\n",
       " 'hear': 3372,\n",
       " 'you': 7686,\n",
       " 'are': 1040,\n",
       " 'settling': 6030,\n",
       " 'well': 7436,\n",
       " 'so': 6274,\n",
       " 'happenin': 3320,\n",
       " 'wit': 7528,\n",
       " 'ola': 4915,\n",
       " 'hi': 3419,\n",
       " 'technical': 6730,\n",
       " 'support': 6609,\n",
       " 'providing': 5462,\n",
       " 'assistance': 1099,\n",
       " 'us': 7194,\n",
       " 'customer': 2116,\n",
       " 'through': 6865,\n",
       " 'call': 1610,\n",
       " 'and': 953,\n",
       " 'email': 2568,\n",
       " 'll': 4154,\n",
       " 'text': 6774,\n",
       " 'when': 7462,\n",
       " 'drop': 2454,\n",
       " 'off': 4884,\n",
       " 'this': 6844,\n",
       " 'is': 3736,\n",
       " '2nd': 401,\n",
       " 'time': 6890,\n",
       " 'we': 7395,\n",
       " 'have': 3351,\n",
       " 'tried': 7022,\n",
       " 'contact': 1973,\n",
       " 'won': 7556,\n",
       " '750': 611,\n",
       " 'pound': 5326,\n",
       " 'prize': 5414,\n",
       " 'claim': 1815,\n",
       " 'easy': 2511,\n",
       " '087187272008': 143,\n",
       " 'now1': 4831,\n",
       " 'only': 4936,\n",
       " '10p': 263,\n",
       " 'per': 5139,\n",
       " 'minute': 4492,\n",
       " 'bt': 1543,\n",
       " 'national': 4693,\n",
       " 'rate': 5562,\n",
       " 'many': 4344,\n",
       " 'people': 5137,\n",
       " 'seems': 5982,\n",
       " 'be': 1271,\n",
       " 'special': 6354,\n",
       " 'at': 1110,\n",
       " 'first': 2875,\n",
       " 'sight': 6143,\n",
       " 'but': 1578,\n",
       " 'very': 7253,\n",
       " 'few': 2822,\n",
       " 'will': 7500,\n",
       " 'remain': 5676,\n",
       " 'till': 6888,\n",
       " 'your': 7690,\n",
       " 'maintain': 4317,\n",
       " 'them': 6813,\n",
       " 'life': 4092,\n",
       " 'ends': 2590,\n",
       " 'take': 6678,\n",
       " 'cr': 2038,\n",
       " 'da': 2132,\n",
       " 'that': 6799,\n",
       " 'must': 4644,\n",
       " 'pain': 5050,\n",
       " 'catch': 1683,\n",
       " 'aiyar': 879,\n",
       " 'dun': 2481,\n",
       " 'disturb': 2352,\n",
       " 'liao': 4083,\n",
       " 'thk': 6845,\n",
       " 'lots': 4210,\n",
       " 'do': 2364,\n",
       " 'aft': 840,\n",
       " 'ur': 7179,\n",
       " 'cupboard': 2104,\n",
       " 'come': 1898,\n",
       " 'printer': 5406,\n",
       " 'cool': 1998,\n",
       " 'mean': 4402,\n",
       " 'groovy': 3247,\n",
       " 'wine': 7509,\n",
       " 'groovying': 3248,\n",
       " 'yes': 7669,\n",
       " 'were': 7443,\n",
       " 'outside': 5013,\n",
       " 'for': 2943,\n",
       " 'like': 4104,\n",
       " 'hours': 3511,\n",
       " 'called': 1616,\n",
       " 'whole': 7479,\n",
       " 'family': 2770,\n",
       " 'wake': 7338,\n",
       " 'cause': 1688,\n",
       " 'it': 3748,\n",
       " 'started': 6433,\n",
       " 'am': 923,\n",
       " '0a': 251,\n",
       " 'networks': 4738,\n",
       " 'allow': 904,\n",
       " 'companies': 1913,\n",
       " 'bill': 1347,\n",
       " 'sms': 6254,\n",
       " 'they': 6829,\n",
       " 'responsible': 5741,\n",
       " 'their': 6810,\n",
       " 'suppliers': 6606,\n",
       " 'as': 1080,\n",
       " 'shop': 6100,\n",
       " 'has': 3336,\n",
       " 'give': 3149,\n",
       " 'guarantee': 3262,\n",
       " 'on': 4925,\n",
       " 'sell': 5994,\n",
       " 'lot': 4208,\n",
       " 'friend': 3012,\n",
       " 'stuff': 6528,\n",
       " 'now': 4830,\n",
       " 'about': 748,\n",
       " 'talk': 6684,\n",
       " 'actual': 796,\n",
       " 'guy': 3279,\n",
       " 'who': 7478,\n",
       " 'wants': 7359,\n",
       " 'buy': 1583,\n",
       " 'nice': 4756,\n",
       " 'day': 2172,\n",
       " 'dear': 2183,\n",
       " 'sunshine': 6597,\n",
       " 'quiz': 5528,\n",
       " 'win': 7503,\n",
       " 'super': 6600,\n",
       " 'sony': 6309,\n",
       " 'dvd': 2489,\n",
       " 'recorder': 5629,\n",
       " 'if': 3594,\n",
       " 'canname': 1642,\n",
       " 'capital': 1647,\n",
       " 'australia': 1143,\n",
       " 'mquiz': 4601,\n",
       " '82277': 648,\n",
       " 'lol': 4181,\n",
       " 'our': 5000,\n",
       " 'friendship': 3015,\n",
       " 'hanging': 3315,\n",
       " 'thread': 6860,\n",
       " 'think': 6835,\n",
       " 'match': 4370,\n",
       " 'how': 3517,\n",
       " 'times': 6891,\n",
       " 'told': 6933,\n",
       " 'in': 3635,\n",
       " 'stage': 6416,\n",
       " 'all': 900,\n",
       " 'use': 7198,\n",
       " 'laugh': 4019,\n",
       " 'not': 4816,\n",
       " 'listen': 4137,\n",
       " 'aha': 861,\n",
       " 'forwarded': 2969,\n",
       " 'from': 3029,\n",
       " '88877': 696,\n",
       " 'free': 2989,\n",
       " 'entry': 2621,\n",
       " 'into': 3708,\n",
       " '250': 365,\n",
       " 'weekly': 7423,\n",
       " 'comp': 1912,\n",
       " 'send': 6001,\n",
       " 'word': 7571,\n",
       " 'enter': 2610,\n",
       " '18': 317,\n",
       " 'www': 7621,\n",
       " 'textcomp': 6779,\n",
       " 'com': 1893,\n",
       " 'shant': 6057,\n",
       " 'anymore': 990,\n",
       " 'jia': 3812,\n",
       " 'wat': 7374,\n",
       " 'finish': 2862,\n",
       " 'lect': 4054,\n",
       " 'today': 6924,\n",
       " 'hurt': 3556,\n",
       " 'tough': 6984,\n",
       " 'still': 6469,\n",
       " 'chance': 1722,\n",
       " 'there': 6822,\n",
       " 'search': 5957,\n",
       " 'hard': 3328,\n",
       " 'get': 3122,\n",
       " 'let': 4076,\n",
       " 'try': 7042,\n",
       " 'yunny': 7703,\n",
       " 'goin': 3171,\n",
       " 'late': 4012,\n",
       " 'could': 2021,\n",
       " 'read': 5582,\n",
       " 'me': 4399,\n",
       " 'love': 4222,\n",
       " 'answered': 977,\n",
       " 'hello': 3393,\n",
       " 'need': 4716,\n",
       " 'some': 6288,\n",
       " 'posh': 5306,\n",
       " 'birds': 1358,\n",
       " 'chaps': 1730,\n",
       " 'user': 7201,\n",
       " 'trial': 7021,\n",
       " 'prods': 5428,\n",
       " 'champneys': 1721,\n",
       " 'can': 1633,\n",
       " 'put': 5501,\n",
       " 'down': 2421,\n",
       " 'address': 805,\n",
       " 'dob': 2365,\n",
       " 'asap': 1082,\n",
       " 'ta': 6667,\n",
       " 'thanx': 6796,\n",
       " 'innocent': 3675,\n",
       " 'fun': 3052,\n",
       " 'really': 5596,\n",
       " 'dude': 2474,\n",
       " 'no': 4782,\n",
       " 'friends': 3013,\n",
       " 'afraid': 837,\n",
       " 've': 7240,\n",
       " 'bin': 1355,\n",
       " 'awarded': 1167,\n",
       " '50': 532,\n",
       " 'play': 5231,\n",
       " 'instant': 3689,\n",
       " 'cash': 1675,\n",
       " '08715203028': 119,\n",
       " 'every': 2669,\n",
       " '9th': 731,\n",
       " 'player': 5233,\n",
       " 'wins': 7516,\n",
       " 'min': 4475,\n",
       " '500': 533,\n",
       " 'optout': 4965,\n",
       " '08718727870': 144,\n",
       " 'heard': 3373,\n",
       " 'week': 7419,\n",
       " 'yeah': 7657,\n",
       " 'probs': 5424,\n",
       " 'night': 4763,\n",
       " 'obviously': 4873,\n",
       " 'catching': 1685,\n",
       " 'with': 7529,\n",
       " 'speak': 6352,\n",
       " 'soon': 6312,\n",
       " 'also': 914,\n",
       " 'north': 4810,\n",
       " 'carolina': 1668,\n",
       " 'texas': 6773,\n",
       " 'atm': 1116,\n",
       " 'would': 7594,\n",
       " 'go': 3163,\n",
       " 'gre': 3233,\n",
       " 'site': 6179,\n",
       " 'pay': 5113,\n",
       " 'test': 6769,\n",
       " 'results': 5750,\n",
       " 'sent': 6009,\n",
       " 'esplanade': 2649,\n",
       " 'lor': 4201,\n",
       " 'where': 7466,\n",
       " 'else': 2564,\n",
       " 'omw': 4924,\n",
       " 'back': 1190,\n",
       " 'tampa': 6693,\n",
       " 'west': 7447,\n",
       " 'palm': 5056,\n",
       " 'happened': 3319,\n",
       " 'look': 4191,\n",
       " 'lib': 4084,\n",
       " 'got': 3200,\n",
       " 'havent': 3354,\n",
       " 'yet': 7672,\n",
       " 'oops': 4944,\n",
       " 'bit': 1365,\n",
       " 'anything': 995,\n",
       " 'toa': 6918,\n",
       " 'payoh': 5121,\n",
       " 'place': 5219,\n",
       " 'walk': 7342,\n",
       " 'meh': 4422,\n",
       " 'yep': 7667,\n",
       " 'then': 6817,\n",
       " 'fine': 2859,\n",
       " '30': 420,\n",
       " 'or': 4966,\n",
       " 'ice': 3579,\n",
       " 'age': 850,\n",
       " 'detail': 2264,\n",
       " 'want': 7355,\n",
       " 'transfer': 7001,\n",
       " 'acc': 761,\n",
       " 'enough': 2608,\n",
       " 'date': 2164,\n",
       " 'sunday': 6590,\n",
       " 'funeral': 3054,\n",
       " 'home': 3470,\n",
       " 'audrey': 1134,\n",
       " 'dad': 2136,\n",
       " 'carlos': 1667,\n",
       " 'taking': 6682,\n",
       " 'his': 3436,\n",
       " 'sweet': 6643,\n",
       " 'usual': 7208,\n",
       " 'know': 3949,\n",
       " 'patty': 5109,\n",
       " 'done': 2397,\n",
       " 'smoke': 6248,\n",
       " 'tell': 6741,\n",
       " 'him': 3429,\n",
       " 'haul': 3345,\n",
       " 'ass': 1096,\n",
       " 'later': 4015,\n",
       " 'check': 1753,\n",
       " 'nuerologist': 4843,\n",
       " 'page': 5046,\n",
       " 'thats': 6802,\n",
       " 'weird': 7429,\n",
       " 'even': 2664,\n",
       " 'supposed': 6612,\n",
       " 'happening': 3321,\n",
       " 'good': 3184,\n",
       " 'idea': 3585,\n",
       " 'sure': 6615,\n",
       " 'pub': 5476,\n",
       " 'neva': 4739,\n",
       " 'mind': 4478,\n",
       " 'ok': 4908,\n",
       " 'imma': 3619,\n",
       " 'definitely': 2214,\n",
       " 'restock': 5744,\n",
       " 'before': 1297,\n",
       " 'thanksgiving': 6793,\n",
       " 'out': 5003,\n",
       " 'rooms': 5817,\n",
       " 'befor': 1296,\n",
       " 'activities': 794,\n",
       " 'don': 2396,\n",
       " 'care': 1655,\n",
       " 'its': 3756,\n",
       " 'fran': 2978,\n",
       " 'decided': 2193,\n",
       " 'way': 7390,\n",
       " 'im': 3611,\n",
       " 'completely': 1926,\n",
       " 'broke': 1522,\n",
       " 'an': 949,\n",
       " 'knackered': 3943,\n",
       " 'bout': 1449,\n",
       " '2mrw': 399,\n",
       " 'janx': 3780,\n",
       " 'dads': 2138,\n",
       " 'fone': 2932,\n",
       " 'credit': 2058,\n",
       " 'chat': 1745,\n",
       " 'hey': 3415,\n",
       " 'juz': 3866,\n",
       " 'accordin': 772,\n",
       " 'discussed': 2344,\n",
       " 'yest': 7670,\n",
       " 'except': 2696,\n",
       " 'kb': 3893,\n",
       " 'sun': 6588,\n",
       " 'cos': 2014,\n",
       " 'nt': 4836,\n",
       " 'much': 4623,\n",
       " 'lesson': 4074,\n",
       " 'attend': 1122,\n",
       " 'sat': 5902,\n",
       " 'reached': 5578,\n",
       " 'already': 911,\n",
       " 'probably': 5419,\n",
       " 'having': 3357,\n",
       " 'too': 6957,\n",
       " 'message': 4448,\n",
       " 'thought': 6856,\n",
       " 'id': 3584,\n",
       " 'txt': 7077,\n",
       " 'bored': 1434,\n",
       " 'james': 3774,\n",
       " 'been': 1291,\n",
       " 'farting': 2781,\n",
       " 'thinking': 6838,\n",
       " 'going': 3172,\n",
       " 'reg': 5652,\n",
       " 'pract': 5340,\n",
       " 'lessons': 4075,\n",
       " 'flung': 2914,\n",
       " 'advance': 824,\n",
       " 'haha': 3291,\n",
       " 'talking': 6687,\n",
       " 'early': 2500,\n",
       " 'morning': 4578,\n",
       " 'almost': 907,\n",
       " 'noon': 4799,\n",
       " 'possible': 5313,\n",
       " 'teach': 6719,\n",
       " 'amp': 941,\n",
       " 're': 5575,\n",
       " 'packing': 5043,\n",
       " 'car': 1651,\n",
       " 'room': 5813,\n",
       " 'lar': 4004,\n",
       " 'those': 6852,\n",
       " 'cocksuckers': 1872,\n",
       " 'makes': 4321,\n",
       " 'feel': 2807,\n",
       " 'better': 1328,\n",
       " 'ipads': 3725,\n",
       " 'worthless': 7589,\n",
       " 'garbage': 3080,\n",
       " 'novelty': 4828,\n",
       " 'items': 3751,\n",
       " 'should': 6114,\n",
       " 'bad': 1193,\n",
       " 'wanting': 7358,\n",
       " 'one': 4930,\n",
       " 'effect': 2537,\n",
       " 'irritation': 3734,\n",
       " 'ignore': 3599,\n",
       " 'england': 2599,\n",
       " 'official': 4895,\n",
       " 'poly': 5284,\n",
       " 'ringtone': 5783,\n",
       " 'colour': 1890,\n",
       " 'flag': 2885,\n",
       " 'yer': 7668,\n",
       " 'mobile': 4536,\n",
       " 'tone': 6945,\n",
       " '84199': 667,\n",
       " 'opt': 4960,\n",
       " 'eng': 2594,\n",
       " 'stop': 6480,\n",
       " 'box39822': 1462,\n",
       " 'w111wx': 7318,\n",
       " 'wonder': 7558,\n",
       " 'phone': 5177,\n",
       " 'battery': 1250,\n",
       " 'went': 7440,\n",
       " 'dead': 2178,\n",
       " 'had': 3288,\n",
       " 'babe': 1182,\n",
       " 'training': 6995,\n",
       " 'yo': 7681,\n",
       " 'wait': 7334,\n",
       " 'lt': 4244,\n",
       " 'gt': 3259,\n",
       " 'dont': 2399,\n",
       " 'shall': 6051,\n",
       " 'calls': 1624,\n",
       " 'messages': 4450,\n",
       " 'missed': 4504,\n",
       " 'ah': 860,\n",
       " 'poor': 5295,\n",
       " 'baby': 1185,\n",
       " 'hope': 3486,\n",
       " 'urfeeling': 7182,\n",
       " 'bettersn': 1329,\n",
       " 'luv': 4262,\n",
       " 'probthat': 5425,\n",
       " 'overdose': 5022,\n",
       " 'work': 7573,\n",
       " 'careful': 1660,\n",
       " 'spk': 6375,\n",
       " 'sn': 6259,\n",
       " 'lovejen': 4224,\n",
       " 'xxx': 7638,\n",
       " 'yar': 7650,\n",
       " 'wanted': 7357,\n",
       " 'scold': 5932,\n",
       " 'zhong': 7711,\n",
       " 'se': 5955,\n",
       " 'qing': 5511,\n",
       " 'ask': 1087,\n",
       " 'b4': 1175,\n",
       " 'he': 3361,\n",
       " 'act': 786,\n",
       " 'real': 5587,\n",
       " 'part': 5086,\n",
       " 'tomorrow': 6943,\n",
       " 'meet': 4415,\n",
       " 'library': 4086,\n",
       " 'thanks': 6792,\n",
       " 'chikku': 1782,\n",
       " 'gud': 3265,\n",
       " 'nyt': 4861,\n",
       " 'antha': 983,\n",
       " 'num': 4844,\n",
       " 'corrct': 2008,\n",
       " 'dane': 2148,\n",
       " 'job': 3819,\n",
       " 'starts': 6435,\n",
       " 'monday': 4560,\n",
       " 'excellent': 2695,\n",
       " 'spent': 6368,\n",
       " 'years': 7659,\n",
       " 'air': 873,\n",
       " 'force': 2944,\n",
       " 'iraq': 3729,\n",
       " 'afghanistan': 836,\n",
       " 'stable': 6414,\n",
       " 'honest': 3473,\n",
       " 'traveling': 7010,\n",
       " 'snatch': 6262,\n",
       " 'her': 3406,\n",
       " 'purse': 5497,\n",
       " 'nvm': 4855,\n",
       " 'reply': 5709,\n",
       " 'offer': 4889,\n",
       " 'mins': 4489,\n",
       " '150': 301,\n",
       " 'textand': 6776,\n",
       " 'new': 4745,\n",
       " 'video': 7264,\n",
       " '08002988890': 57,\n",
       " 'delivery': 2231,\n",
       " 'valentines': 7222,\n",
       " 'over': 5019,\n",
       " '1000': 255,\n",
       " 'partner': 5090,\n",
       " 'trip': 7023,\n",
       " 'lifetime': 4095,\n",
       " '83600': 661,\n",
       " '150p': 303,\n",
       " 'msg': 4606,\n",
       " 'rcvd': 5572,\n",
       " 'custcare': 2114,\n",
       " '08718720201': 136,\n",
       " 'floppy': 2907,\n",
       " 'snappy': 6261,\n",
       " 'happy': 3327,\n",
       " 'gay': 3093,\n",
       " 'service': 6021,\n",
       " 'photo': 5183,\n",
       " 'upload': 7171,\n",
       " '08718730666': 147,\n",
       " 'texts': 6785,\n",
       " '08712460324': 108,\n",
       " 'sister': 6177,\n",
       " 'kids': 3921,\n",
       " 'knw': 3952,\n",
       " 'pa': 5039,\n",
       " 'drink': 2443,\n",
       " 'milk': 4471,\n",
       " 'urgent': 7183,\n",
       " 'please': 5240,\n",
       " '09061743810': 200,\n",
       " 'landline': 3992,\n",
       " 'abta': 756,\n",
       " 'complimentary': 1929,\n",
       " 'tenerife': 6754,\n",
       " 'holiday': 3465,\n",
       " '5000': 534,\n",
       " 'await': 1163,\n",
       " 'collection': 1887,\n",
       " 'sae': 5869,\n",
       " 'cs': 2078,\n",
       " 'box': 1453,\n",
       " '326': 439,\n",
       " 'cw25wx': 2128,\n",
       " 'ppm': 5336,\n",
       " 'means': 4405,\n",
       " 'because': 1280,\n",
       " 'world': 7579,\n",
       " 'ge': 3102,\n",
       " 'india': 3655,\n",
       " 'download': 2422,\n",
       " 'clear': 1829,\n",
       " 'movies': 4598,\n",
       " 'copies': 2002,\n",
       " 'dial': 2284,\n",
       " 'open': 4945,\n",
       " 'browser': 1534,\n",
       " 'surf': 6617,\n",
       " 'luck': 4249,\n",
       " 'catches': 1684,\n",
       " 'cost': 2016,\n",
       " 'approx': 1026,\n",
       " 'month': 4567,\n",
       " 'order': 4973,\n",
       " 'reference': 5641,\n",
       " 'number': 4845,\n",
       " 'x49': 7625,\n",
       " 'charged': 1735,\n",
       " 'arrive': 1070,\n",
       " 'services': 6022,\n",
       " '09065989182': 222,\n",
       " 'goes': 3169,\n",
       " 'doing': 2387,\n",
       " 'sip': 6171,\n",
       " 'cappuccino': 1648,\n",
       " 'kiss': 3936,\n",
       " 'across': 785,\n",
       " 'sea': 5956,\n",
       " 'why': 7485,\n",
       " 'de': 2177,\n",
       " 'looking': 4195,\n",
       " 'watching': 7379,\n",
       " 'movie': 4597,\n",
       " 'xy': 7644,\n",
       " 'shopping': 6102,\n",
       " 'did': 2294,\n",
       " 'any': 987,\n",
       " 'gift': 3137,\n",
       " 'year': 7658,\n",
       " 'didnt': 2296,\n",
       " 'right': 5775,\n",
       " 'ahmad': 865,\n",
       " 'confirm': 1951,\n",
       " 'eating': 2515,\n",
       " 'romantic': 5810,\n",
       " 'paris': 5080,\n",
       " 'nights': 4765,\n",
       " 'flights': 2897,\n",
       " '79': 622,\n",
       " 'book': 1422,\n",
       " 'next': 4752,\n",
       " '08704439680ts': 84,\n",
       " 'apply': 1016,\n",
       " 'same': 5890,\n",
       " 'wan': 7350,\n",
       " 'host': 3501,\n",
       " 'based': 1235,\n",
       " 'idps': 3592,\n",
       " 'linux': 4126,\n",
       " 'systems': 6666,\n",
       " 'ya': 7645,\n",
       " 'restaurant': 5743,\n",
       " 'madam': 4298,\n",
       " 'regret': 5659,\n",
       " 'disturbance': 2353,\n",
       " 'might': 4466,\n",
       " 'receive': 5613,\n",
       " 'dlf': 2360,\n",
       " 'premarica': 5368,\n",
       " 'kindly': 3931,\n",
       " 'informed': 3667,\n",
       " 'rgds': 5767,\n",
       " 'rakhesh': 5549,\n",
       " 'kerala': 3902,\n",
       " 'amanda': 924,\n",
       " 'regard': 5654,\n",
       " 'renewing': 5695,\n",
       " 'upgrading': 7169,\n",
       " 'current': 2108,\n",
       " 'handset': 3310,\n",
       " 'charge': 1734,\n",
       " 'tel': 6736,\n",
       " '0845': 66,\n",
       " '021': 12,\n",
       " '3680': 447,\n",
       " 'subject': 6541,\n",
       " 'okay': 4909,\n",
       " 'wah': 7329,\n",
       " 'def': 2209,\n",
       " 'wont': 7562,\n",
       " 'say': 5914,\n",
       " 'terms': 6760,\n",
       " 'conditions': 1945,\n",
       " 'town': 6987,\n",
       " 'important': 3627,\n",
       " 'oh': 4903,\n",
       " 'amount': 940,\n",
       " 'small': 6232,\n",
       " 'lifting': 4099,\n",
       " 'b4u': 1177,\n",
       " 'voucher': 7310,\n",
       " '27': 372,\n",
       " '03': 13,\n",
       " 'marsms': 4363,\n",
       " 'log': 4172,\n",
       " 'onto': 4938,\n",
       " 'b4utele': 1178,\n",
       " 'discount': 2341,\n",
       " '08717168528': 129,\n",
       " 'always': 921,\n",
       " 'putting': 5504,\n",
       " 'business': 1575,\n",
       " 'pictures': 5198,\n",
       " 'facebook': 2746,\n",
       " 'most': 4582,\n",
       " 'ever': 2668,\n",
       " 'met': 4455,\n",
       " 'picture': 5197,\n",
       " 'make': 4320,\n",
       " 'violated': 7278,\n",
       " 'opinion': 4953,\n",
       " 'jada': 3772,\n",
       " 'kusruthi': 3967,\n",
       " 'lovable': 4221,\n",
       " 'silent': 6151,\n",
       " 'spl': 6376,\n",
       " 'character': 1732,\n",
       " 'matured': 4384,\n",
       " 'stylish': 6538,\n",
       " 'simple': 6157,\n",
       " 'pls': 5246,\n",
       " 'remind': 5683,\n",
       " 'yup': 7705,\n",
       " 'princess': 5403,\n",
       " 'problem': 5420,\n",
       " 'birthdate': 1362,\n",
       " 'certificate': 1714,\n",
       " 'april': 1030,\n",
       " 'publish': 5478,\n",
       " 'treat': 7014,\n",
       " 'keep': 3895,\n",
       " 'secret': 5965,\n",
       " 'wishes': 7524,\n",
       " 'project': 5439,\n",
       " 'centre': 1708,\n",
       " 'coast': 1867,\n",
       " 'haiz': 3297,\n",
       " 'forever': 2947,\n",
       " 'jade': 3773,\n",
       " 'paul': 5110,\n",
       " 'didn': 2295,\n",
       " 'remember': 5679,\n",
       " 'barmed': 1227,\n",
       " 'lousy': 4219,\n",
       " 'run': 5851,\n",
       " 'half': 3298,\n",
       " 'hee': 3384,\n",
       " 'baaaaabe': 1181,\n",
       " 'misss': 4508,\n",
       " 'youuuuu': 7695,\n",
       " 'class': 1822,\n",
       " 'guaranteed': 3263,\n",
       " '2000': 343,\n",
       " 'yr': 7697,\n",
       " 'representative': 5714,\n",
       " '08714712394': 116,\n",
       " 'between': 1331,\n",
       " '10am': 261,\n",
       " '7pm': 627,\n",
       " 'picking': 5193,\n",
       " 'various': 7231,\n",
       " 'points': 5278,\n",
       " 'yeovil': 7666,\n",
       " 'motor': 4588,\n",
       " '12': 275,\n",
       " 'max': 4386,\n",
       " 'gorgeous': 3197,\n",
       " 'pix': 5215,\n",
       " 'cumming': 2102,\n",
       " 'thank': 6791,\n",
       " 'legs': 4062,\n",
       " 'neck': 4714,\n",
       " 'killing': 3926,\n",
       " 'amigos': 930,\n",
       " 'hoping': 3492,\n",
       " 'end': 2584,\n",
       " 'burn': 1570,\n",
       " 'swing': 6651,\n",
       " 'by': 1593,\n",
       " 'hour': 3509,\n",
       " 'superior': 6602,\n",
       " 'telling': 6742,\n",
       " 'friday': 3008,\n",
       " 'leave': 4051,\n",
       " 'other': 4993,\n",
       " 'department': 2244,\n",
       " 'ours': 5002,\n",
       " 'waheed': 7332,\n",
       " 'fathima': 2789,\n",
       " 'hr': 3526,\n",
       " 'conform': 1954,\n",
       " 'honey': 3475,\n",
       " 'haven': 3353,\n",
       " 'longer': 4188,\n",
       " 'crowd': 2071,\n",
       " 'advice': 826,\n",
       " 'cardiff': 1653,\n",
       " 'dogbreath': 2378,\n",
       " 'sounding': 6331,\n",
       " 'jan': 3776,\n",
       " 'al': 883,\n",
       " 'eh': 2545,\n",
       " 'ger': 3120,\n",
       " 'toking': 6931,\n",
       " 'abt': 755,\n",
       " 'syd': 6657,\n",
       " 'leh': 4063,\n",
       " 'sleeping': 6209,\n",
       " 'law': 4027,\n",
       " 'person': 5152,\n",
       " 'never': 4741,\n",
       " 'alone': 908,\n",
       " 'until': 7159,\n",
       " 'alive': 899,\n",
       " '25p': 368,\n",
       " 'alfie': 893,\n",
       " 'moon': 4572,\n",
       " 'children': 1786,\n",
       " 'song': 6307,\n",
       " 'mob': 4534,\n",
       " 'm8s': 4281,\n",
       " 'charity': 1737,\n",
       " '8007': 633,\n",
       " 'nokias': 4792,\n",
       " 'polys': 5289,\n",
       " 'zed': 7710,\n",
       " '08701417012': 77,\n",
       " 'profit': 5435,\n",
       " 'helloooo': 3394,\n",
       " 'welcomes': 7435,\n",
       " 'enjoy': 2601,\n",
       " 'full': 3049,\n",
       " 'joy': 3842,\n",
       " 'mrng': 4603,\n",
       " 'frying': 3036,\n",
       " 'pan': 5057,\n",
       " 'case': 1674,\n",
       " 'cheap': 1748,\n",
       " 'perhaps': 5147,\n",
       " 'silly': 6153,\n",
       " 'isn': 3743,\n",
       " 'likely': 4106,\n",
       " 'coming': 1904,\n",
       " 'tonight': 6952,\n",
       " 'hella': 3392,\n",
       " 'gas': 3086,\n",
       " 'money': 4561,\n",
       " 'grand': 3220,\n",
       " 'nature': 4697,\n",
       " 'adventure': 825,\n",
       " 'galileo': 3070,\n",
       " 'little': 4146,\n",
       " 'worry': 7584,\n",
       " 'though': 6855,\n",
       " 'understand': 7126,\n",
       " 'poorly': 5296,\n",
       " 'punishment': 5487,\n",
       " 'face': 2745,\n",
       " 'worst': 7587,\n",
       " 'thing': 6833,\n",
       " 'brb': 1487,\n",
       " 'gonna': 3182,\n",
       " 'kill': 3924,\n",
       " 'myself': 4657,\n",
       " 'sign': 6144,\n",
       " 'maturity': 4385,\n",
       " 'start': 6432,\n",
       " 'saying': 5917,\n",
       " 'big': 1343,\n",
       " 'things': 6834,\n",
       " 'actually': 797,\n",
       " 'understanding': 7127,\n",
       " 'evening': 2665,\n",
       " 'bslvyl': 1539,\n",
       " 'kidding': 3920,\n",
       " 'papa': 5066,\n",
       " 'needs': 4720,\n",
       " 'drugs': 2460,\n",
       " 'reache': 5577,\n",
       " 'finally': 2853,\n",
       " 'completed': 1925,\n",
       " 'course': 2032,\n",
       " 'dunno': 2483,\n",
       " 'lei': 4064,\n",
       " 'said': 5876,\n",
       " 'eat': 2512,\n",
       " 'shit': 6087,\n",
       " 'flippin': 2900,\n",
       " 'light': 4100,\n",
       " 'turned': 7064,\n",
       " 'green': 3237,\n",
       " 'meant': 4406,\n",
       " 'another': 973,\n",
       " 'worth': 7588,\n",
       " 'may': 4391,\n",
       " 'around': 1063,\n",
       " 'wana': 7352,\n",
       " 'see': 5975,\n",
       " 'ready': 5586,\n",
       " 'moan': 4533,\n",
       " 'scream': 5944,\n",
       " 'ecstasy': 2521,\n",
       " 'wish': 7523,\n",
       " 'returns': 5758,\n",
       " 'birthday': 1363,\n",
       " 'vikky': 7272,\n",
       " 'prepare': 5371,\n",
       " 'midnight': 4464,\n",
       " 'earliest': 2499,\n",
       " 'iz': 3763,\n",
       " 'yellow': 7663,\n",
       " 'rose': 5819,\n",
       " 'frndship': 3023,\n",
       " 'misscall': 4503,\n",
       " 'frndz': 3026,\n",
       " 'miss': 4502,\n",
       " '6missed': 597,\n",
       " 'marry': 4362,\n",
       " 'lover': 4227,\n",
       " 'fujitsu': 3046,\n",
       " 'ibm': 3573,\n",
       " 'hp': 3523,\n",
       " 'toshiba': 6977,\n",
       " 'model': 4546,\n",
       " 'ten': 6751,\n",
       " 'rs': 5834,\n",
       " 'shelf': 6069,\n",
       " 'two': 7075,\n",
       " 'egg': 2542,\n",
       " 'hanks': 3316,\n",
       " 'lotsly': 4211,\n",
       " 'torch': 6972,\n",
       " '9ja': 728,\n",
       " 'says': 5918,\n",
       " 'hurry': 3555,\n",
       " 'hell': 3391,\n",
       " 'rounder': 5823,\n",
       " 'required': 5717,\n",
       " 'she': 6065,\n",
       " 'doesnt': 2376,\n",
       " 'pick': 5191,\n",
       " 'stitch': 6471,\n",
       " 'trouser': 7032,\n",
       " 'huh': 3539,\n",
       " 'yoga': 7682,\n",
       " 'basic': 1237,\n",
       " 'sir': 6174,\n",
       " 'paying': 5118,\n",
       " 'rent': 5696,\n",
       " 'past': 5102,\n",
       " 'months': 4570,\n",
       " 'felt': 2817,\n",
       " 'inconsiderate': 3647,\n",
       " 'nag': 4665,\n",
       " 'something': 6297,\n",
       " 'yourself': 7694,\n",
       " 'however': 3520,\n",
       " 'recession': 5620,\n",
       " 'able': 746,\n",
       " 'hence': 3403,\n",
       " 'askin': 1090,\n",
       " 'ahead': 862,\n",
       " 'help': 3395,\n",
       " 'er': 2630,\n",
       " 'enjoyin': 2603,\n",
       " 'indians': 3657,\n",
       " 'mo': 4532,\n",
       " 'sall': 5884,\n",
       " 'hehe': 3386,\n",
       " 'hows': 3521,\n",
       " 'shexy': 6074,\n",
       " 'pete': 5161,\n",
       " 'xx': 7635,\n",
       " 'private': 5411,\n",
       " '2003': 344,\n",
       " 'account': 774,\n",
       " 'statement': 6441,\n",
       " '07815296484': 38,\n",
       " 'shows': 6125,\n",
       " '800': 631,\n",
       " 'un': 7113,\n",
       " 'redeemed': 5638,\n",
       " '08718738001': 148,\n",
       " 'identifier': 3588,\n",
       " 'code': 1874,\n",
       " '41782': 477,\n",
       " 'expires': 2723,\n",
       " '11': 265,\n",
       " '04': 14,\n",
       " 'dobby': 2366,\n",
       " 'bowl': 1451,\n",
       " 'tones': 6946,\n",
       " 'enjoyed': 2602,\n",
       " 'content': 1977,\n",
       " '61610': 572,\n",
       " 'unsubscribe': 7156,\n",
       " '08712400602450p': 100,\n",
       " ...}"
      ]
     },
     "execution_count": 98,
     "metadata": {},
     "output_type": "execute_result"
    }
   ],
   "source": [
    "v.vocabulary_"
   ]
  },
  {
   "cell_type": "code",
   "execution_count": 99,
   "id": "1f1f9148",
   "metadata": {},
   "outputs": [
    {
     "data": {
      "text/plain": [
       "'arng'"
      ]
     },
     "execution_count": 99,
     "metadata": {},
     "output_type": "execute_result"
    }
   ],
   "source": [
    "v.get_feature_names_out()[1060]"
   ]
  },
  {
   "cell_type": "code",
   "execution_count": 100,
   "id": "58d462ad",
   "metadata": {},
   "outputs": [
    {
     "data": {
      "text/plain": [
       "array([[0, 0, 0, ..., 0, 0, 0],\n",
       "       [0, 0, 0, ..., 0, 0, 0],\n",
       "       [0, 0, 0, ..., 0, 0, 0],\n",
       "       [0, 0, 0, ..., 0, 0, 0]], dtype=int64)"
      ]
     },
     "execution_count": 100,
     "metadata": {},
     "output_type": "execute_result"
    }
   ],
   "source": [
    "X_train_np = X_train_cv.toarray()\n",
    "X_train_np[:4]"
   ]
  },
  {
   "cell_type": "code",
   "execution_count": 105,
   "id": "ec55c0c6",
   "metadata": {},
   "outputs": [
    {
     "data": {
      "text/plain": [
       "(array([ 399, 1183, 1512, 1524, 2600, 2981, 3200, 3635, 3748, 4057, 4262,\n",
       "        6835, 7179, 7496], dtype=int64),)"
      ]
     },
     "execution_count": 105,
     "metadata": {},
     "output_type": "execute_result"
    }
   ],
   "source": [
    "np.where(X_train_np[3820] != 0)"
   ]
  },
  {
   "cell_type": "code",
   "execution_count": 102,
   "id": "11debc93",
   "metadata": {},
   "outputs": [
    {
     "data": {
      "text/plain": [
       "3820    sorry brah, just finished the last of my exams...\n",
       "1300    Great to hear you are settling well. So what's...\n",
       "4765    Hi.:)technical support.providing assistance to...\n",
       "873                       I'll text you when I drop x off\n",
       "Name: Message, dtype: object"
      ]
     },
     "execution_count": 102,
     "metadata": {},
     "output_type": "execute_result"
    }
   ],
   "source": [
    "X_train[:4]"
   ]
  },
  {
   "cell_type": "code",
   "execution_count": 104,
   "id": "7109d9c1",
   "metadata": {},
   "outputs": [
    {
     "data": {
      "text/plain": [
       "'sorry brah, just finished the last of my exams, what up'"
      ]
     },
     "execution_count": 104,
     "metadata": {},
     "output_type": "execute_result"
    }
   ],
   "source": [
    "X_train[3820]"
   ]
  },
  {
   "cell_type": "code",
   "execution_count": 107,
   "id": "b49820c1",
   "metadata": {},
   "outputs": [
    {
     "data": {
      "text/plain": [
       "1"
      ]
     },
     "execution_count": 107,
     "metadata": {},
     "output_type": "execute_result"
    }
   ],
   "source": [
    "X_train_np[3820][399]"
   ]
  },
  {
   "cell_type": "code",
   "execution_count": 111,
   "id": "ce9338aa",
   "metadata": {},
   "outputs": [
    {
     "data": {
      "text/html": [
       "<style>#sk-container-id-1 {color: black;background-color: white;}#sk-container-id-1 pre{padding: 0;}#sk-container-id-1 div.sk-toggleable {background-color: white;}#sk-container-id-1 label.sk-toggleable__label {cursor: pointer;display: block;width: 100%;margin-bottom: 0;padding: 0.3em;box-sizing: border-box;text-align: center;}#sk-container-id-1 label.sk-toggleable__label-arrow:before {content: \"▸\";float: left;margin-right: 0.25em;color: #696969;}#sk-container-id-1 label.sk-toggleable__label-arrow:hover:before {color: black;}#sk-container-id-1 div.sk-estimator:hover label.sk-toggleable__label-arrow:before {color: black;}#sk-container-id-1 div.sk-toggleable__content {max-height: 0;max-width: 0;overflow: hidden;text-align: left;background-color: #f0f8ff;}#sk-container-id-1 div.sk-toggleable__content pre {margin: 0.2em;color: black;border-radius: 0.25em;background-color: #f0f8ff;}#sk-container-id-1 input.sk-toggleable__control:checked~div.sk-toggleable__content {max-height: 200px;max-width: 100%;overflow: auto;}#sk-container-id-1 input.sk-toggleable__control:checked~label.sk-toggleable__label-arrow:before {content: \"▾\";}#sk-container-id-1 div.sk-estimator input.sk-toggleable__control:checked~label.sk-toggleable__label {background-color: #d4ebff;}#sk-container-id-1 div.sk-label input.sk-toggleable__control:checked~label.sk-toggleable__label {background-color: #d4ebff;}#sk-container-id-1 input.sk-hidden--visually {border: 0;clip: rect(1px 1px 1px 1px);clip: rect(1px, 1px, 1px, 1px);height: 1px;margin: -1px;overflow: hidden;padding: 0;position: absolute;width: 1px;}#sk-container-id-1 div.sk-estimator {font-family: monospace;background-color: #f0f8ff;border: 1px dotted black;border-radius: 0.25em;box-sizing: border-box;margin-bottom: 0.5em;}#sk-container-id-1 div.sk-estimator:hover {background-color: #d4ebff;}#sk-container-id-1 div.sk-parallel-item::after {content: \"\";width: 100%;border-bottom: 1px solid gray;flex-grow: 1;}#sk-container-id-1 div.sk-label:hover label.sk-toggleable__label {background-color: #d4ebff;}#sk-container-id-1 div.sk-serial::before {content: \"\";position: absolute;border-left: 1px solid gray;box-sizing: border-box;top: 0;bottom: 0;left: 50%;z-index: 0;}#sk-container-id-1 div.sk-serial {display: flex;flex-direction: column;align-items: center;background-color: white;padding-right: 0.2em;padding-left: 0.2em;position: relative;}#sk-container-id-1 div.sk-item {position: relative;z-index: 1;}#sk-container-id-1 div.sk-parallel {display: flex;align-items: stretch;justify-content: center;background-color: white;position: relative;}#sk-container-id-1 div.sk-item::before, #sk-container-id-1 div.sk-parallel-item::before {content: \"\";position: absolute;border-left: 1px solid gray;box-sizing: border-box;top: 0;bottom: 0;left: 50%;z-index: -1;}#sk-container-id-1 div.sk-parallel-item {display: flex;flex-direction: column;z-index: 1;position: relative;background-color: white;}#sk-container-id-1 div.sk-parallel-item:first-child::after {align-self: flex-end;width: 50%;}#sk-container-id-1 div.sk-parallel-item:last-child::after {align-self: flex-start;width: 50%;}#sk-container-id-1 div.sk-parallel-item:only-child::after {width: 0;}#sk-container-id-1 div.sk-dashed-wrapped {border: 1px dashed gray;margin: 0 0.4em 0.5em 0.4em;box-sizing: border-box;padding-bottom: 0.4em;background-color: white;}#sk-container-id-1 div.sk-label label {font-family: monospace;font-weight: bold;display: inline-block;line-height: 1.2em;}#sk-container-id-1 div.sk-label-container {text-align: center;}#sk-container-id-1 div.sk-container {/* jupyter's `normalize.less` sets `[hidden] { display: none; }` but bootstrap.min.css set `[hidden] { display: none !important; }` so we also need the `!important` here to be able to override the default hidden behavior on the sphinx rendered scikit-learn.org. See: https://github.com/scikit-learn/scikit-learn/issues/21755 */display: inline-block !important;position: relative;}#sk-container-id-1 div.sk-text-repr-fallback {display: none;}</style><div id=\"sk-container-id-1\" class=\"sk-top-container\"><div class=\"sk-text-repr-fallback\"><pre>MultinomialNB()</pre><b>In a Jupyter environment, please rerun this cell to show the HTML representation or trust the notebook. <br />On GitHub, the HTML representation is unable to render, please try loading this page with nbviewer.org.</b></div><div class=\"sk-container\" hidden><div class=\"sk-item\"><div class=\"sk-estimator sk-toggleable\"><input class=\"sk-toggleable__control sk-hidden--visually\" id=\"sk-estimator-id-1\" type=\"checkbox\" checked><label for=\"sk-estimator-id-1\" class=\"sk-toggleable__label sk-toggleable__label-arrow\">MultinomialNB</label><div class=\"sk-toggleable__content\"><pre>MultinomialNB()</pre></div></div></div></div></div>"
      ],
      "text/plain": [
       "MultinomialNB()"
      ]
     },
     "execution_count": 111,
     "metadata": {},
     "output_type": "execute_result"
    }
   ],
   "source": [
    "from sklearn.naive_bayes import MultinomialNB\n",
    "\n",
    "model = MultinomialNB()\n",
    "model.fit(X_train_cv, y_train)"
   ]
  },
  {
   "cell_type": "code",
   "execution_count": 112,
   "id": "0ea169f5",
   "metadata": {},
   "outputs": [],
   "source": [
    "X_test_cv = v.transform(X_test)"
   ]
  },
  {
   "cell_type": "code",
   "execution_count": 114,
   "id": "191d534e",
   "metadata": {
    "scrolled": true
   },
   "outputs": [
    {
     "name": "stdout",
     "output_type": "stream",
     "text": [
      "              precision    recall  f1-score   support\n",
      "\n",
      "           0       0.99      1.00      0.99       955\n",
      "           1       0.99      0.93      0.95       160\n",
      "\n",
      "    accuracy                           0.99      1115\n",
      "   macro avg       0.99      0.96      0.97      1115\n",
      "weighted avg       0.99      0.99      0.99      1115\n",
      "\n"
     ]
    }
   ],
   "source": [
    "from sklearn.metrics import classification_report\n",
    "\n",
    "y_pred = model.predict(X_test_cv)\n",
    "\n",
    "print(classification_report(y_test, y_pred))"
   ]
  },
  {
   "cell_type": "code",
   "execution_count": 117,
   "id": "9d7b308f",
   "metadata": {},
   "outputs": [
    {
     "data": {
      "text/plain": [
       "array([0, 1], dtype=int64)"
      ]
     },
     "execution_count": 117,
     "metadata": {},
     "output_type": "execute_result"
    }
   ],
   "source": [
    "emails = [\n",
    "    'Hey mohan, can we get together to watch footbal game tomorrow?',\n",
    "    'Upto 20% discount on parking, exclusive offer just for you. Dont miss this reward!'\n",
    "]\n",
    "\n",
    "emails_count = v.transform(emails)\n",
    "model.predict(emails_count)"
   ]
  },
  {
   "cell_type": "code",
   "execution_count": 119,
   "id": "b3bfcb54",
   "metadata": {},
   "outputs": [],
   "source": [
    "from sklearn.pipeline import Pipeline\n",
    " \n",
    "clf = Pipeline([\n",
    "    ('vectorizer', CountVectorizer()),\n",
    "    ('nb', MultinomialNB())\n",
    "])"
   ]
  },
  {
   "cell_type": "code",
   "execution_count": 121,
   "id": "bdf8c8a4",
   "metadata": {},
   "outputs": [
    {
     "data": {
      "text/html": [
       "<style>#sk-container-id-2 {color: black;background-color: white;}#sk-container-id-2 pre{padding: 0;}#sk-container-id-2 div.sk-toggleable {background-color: white;}#sk-container-id-2 label.sk-toggleable__label {cursor: pointer;display: block;width: 100%;margin-bottom: 0;padding: 0.3em;box-sizing: border-box;text-align: center;}#sk-container-id-2 label.sk-toggleable__label-arrow:before {content: \"▸\";float: left;margin-right: 0.25em;color: #696969;}#sk-container-id-2 label.sk-toggleable__label-arrow:hover:before {color: black;}#sk-container-id-2 div.sk-estimator:hover label.sk-toggleable__label-arrow:before {color: black;}#sk-container-id-2 div.sk-toggleable__content {max-height: 0;max-width: 0;overflow: hidden;text-align: left;background-color: #f0f8ff;}#sk-container-id-2 div.sk-toggleable__content pre {margin: 0.2em;color: black;border-radius: 0.25em;background-color: #f0f8ff;}#sk-container-id-2 input.sk-toggleable__control:checked~div.sk-toggleable__content {max-height: 200px;max-width: 100%;overflow: auto;}#sk-container-id-2 input.sk-toggleable__control:checked~label.sk-toggleable__label-arrow:before {content: \"▾\";}#sk-container-id-2 div.sk-estimator input.sk-toggleable__control:checked~label.sk-toggleable__label {background-color: #d4ebff;}#sk-container-id-2 div.sk-label input.sk-toggleable__control:checked~label.sk-toggleable__label {background-color: #d4ebff;}#sk-container-id-2 input.sk-hidden--visually {border: 0;clip: rect(1px 1px 1px 1px);clip: rect(1px, 1px, 1px, 1px);height: 1px;margin: -1px;overflow: hidden;padding: 0;position: absolute;width: 1px;}#sk-container-id-2 div.sk-estimator {font-family: monospace;background-color: #f0f8ff;border: 1px dotted black;border-radius: 0.25em;box-sizing: border-box;margin-bottom: 0.5em;}#sk-container-id-2 div.sk-estimator:hover {background-color: #d4ebff;}#sk-container-id-2 div.sk-parallel-item::after {content: \"\";width: 100%;border-bottom: 1px solid gray;flex-grow: 1;}#sk-container-id-2 div.sk-label:hover label.sk-toggleable__label {background-color: #d4ebff;}#sk-container-id-2 div.sk-serial::before {content: \"\";position: absolute;border-left: 1px solid gray;box-sizing: border-box;top: 0;bottom: 0;left: 50%;z-index: 0;}#sk-container-id-2 div.sk-serial {display: flex;flex-direction: column;align-items: center;background-color: white;padding-right: 0.2em;padding-left: 0.2em;position: relative;}#sk-container-id-2 div.sk-item {position: relative;z-index: 1;}#sk-container-id-2 div.sk-parallel {display: flex;align-items: stretch;justify-content: center;background-color: white;position: relative;}#sk-container-id-2 div.sk-item::before, #sk-container-id-2 div.sk-parallel-item::before {content: \"\";position: absolute;border-left: 1px solid gray;box-sizing: border-box;top: 0;bottom: 0;left: 50%;z-index: -1;}#sk-container-id-2 div.sk-parallel-item {display: flex;flex-direction: column;z-index: 1;position: relative;background-color: white;}#sk-container-id-2 div.sk-parallel-item:first-child::after {align-self: flex-end;width: 50%;}#sk-container-id-2 div.sk-parallel-item:last-child::after {align-self: flex-start;width: 50%;}#sk-container-id-2 div.sk-parallel-item:only-child::after {width: 0;}#sk-container-id-2 div.sk-dashed-wrapped {border: 1px dashed gray;margin: 0 0.4em 0.5em 0.4em;box-sizing: border-box;padding-bottom: 0.4em;background-color: white;}#sk-container-id-2 div.sk-label label {font-family: monospace;font-weight: bold;display: inline-block;line-height: 1.2em;}#sk-container-id-2 div.sk-label-container {text-align: center;}#sk-container-id-2 div.sk-container {/* jupyter's `normalize.less` sets `[hidden] { display: none; }` but bootstrap.min.css set `[hidden] { display: none !important; }` so we also need the `!important` here to be able to override the default hidden behavior on the sphinx rendered scikit-learn.org. See: https://github.com/scikit-learn/scikit-learn/issues/21755 */display: inline-block !important;position: relative;}#sk-container-id-2 div.sk-text-repr-fallback {display: none;}</style><div id=\"sk-container-id-2\" class=\"sk-top-container\"><div class=\"sk-text-repr-fallback\"><pre>Pipeline(steps=[(&#x27;vectorizer&#x27;, CountVectorizer()), (&#x27;nb&#x27;, MultinomialNB())])</pre><b>In a Jupyter environment, please rerun this cell to show the HTML representation or trust the notebook. <br />On GitHub, the HTML representation is unable to render, please try loading this page with nbviewer.org.</b></div><div class=\"sk-container\" hidden><div class=\"sk-item sk-dashed-wrapped\"><div class=\"sk-label-container\"><div class=\"sk-label sk-toggleable\"><input class=\"sk-toggleable__control sk-hidden--visually\" id=\"sk-estimator-id-2\" type=\"checkbox\" ><label for=\"sk-estimator-id-2\" class=\"sk-toggleable__label sk-toggleable__label-arrow\">Pipeline</label><div class=\"sk-toggleable__content\"><pre>Pipeline(steps=[(&#x27;vectorizer&#x27;, CountVectorizer()), (&#x27;nb&#x27;, MultinomialNB())])</pre></div></div></div><div class=\"sk-serial\"><div class=\"sk-item\"><div class=\"sk-estimator sk-toggleable\"><input class=\"sk-toggleable__control sk-hidden--visually\" id=\"sk-estimator-id-3\" type=\"checkbox\" ><label for=\"sk-estimator-id-3\" class=\"sk-toggleable__label sk-toggleable__label-arrow\">CountVectorizer</label><div class=\"sk-toggleable__content\"><pre>CountVectorizer()</pre></div></div></div><div class=\"sk-item\"><div class=\"sk-estimator sk-toggleable\"><input class=\"sk-toggleable__control sk-hidden--visually\" id=\"sk-estimator-id-4\" type=\"checkbox\" ><label for=\"sk-estimator-id-4\" class=\"sk-toggleable__label sk-toggleable__label-arrow\">MultinomialNB</label><div class=\"sk-toggleable__content\"><pre>MultinomialNB()</pre></div></div></div></div></div></div></div>"
      ],
      "text/plain": [
       "Pipeline(steps=[('vectorizer', CountVectorizer()), ('nb', MultinomialNB())])"
      ]
     },
     "execution_count": 121,
     "metadata": {},
     "output_type": "execute_result"
    }
   ],
   "source": [
    "clf.fit(X_train, y_train)"
   ]
  },
  {
   "cell_type": "code",
   "execution_count": 123,
   "id": "7a402bf6",
   "metadata": {},
   "outputs": [
    {
     "name": "stdout",
     "output_type": "stream",
     "text": [
      "              precision    recall  f1-score   support\n",
      "\n",
      "           0       0.99      1.00      0.99       955\n",
      "           1       0.99      0.93      0.95       160\n",
      "\n",
      "    accuracy                           0.99      1115\n",
      "   macro avg       0.99      0.96      0.97      1115\n",
      "weighted avg       0.99      0.99      0.99      1115\n",
      "\n"
     ]
    }
   ],
   "source": [
    "y_pred = clf.predict(X_test)\n",
    "\n",
    "print(classification_report(y_test, y_pred))"
   ]
  },
  {
   "cell_type": "code",
   "execution_count": 148,
   "id": "b2d6a062",
   "metadata": {},
   "outputs": [],
   "source": [
    "#Import necessary libraries\n",
    "\n",
    "import pandas as pd\n",
    "import numpy as np\n",
    "from sklearn.model_selection import train_test_split\n",
    "from sklearn.feature_extraction.text import CountVectorizer\n",
    "from sklearn.ensemble import RandomForestClassifier\n",
    "from  sklearn.neighbors import KNeighborsClassifier\n",
    "from sklearn.naive_bayes import MultinomialNB\n",
    "from sklearn.pipeline import Pipeline\n",
    "from sklearn.metrics import classification_report"
   ]
  },
  {
   "cell_type": "code",
   "execution_count": 149,
   "id": "43c6c067",
   "metadata": {},
   "outputs": [],
   "source": [
    "df = pd.read_csv('C:\\DS practice\\IMDB Dataset.csv')"
   ]
  },
  {
   "cell_type": "code",
   "execution_count": 150,
   "id": "f0a407df",
   "metadata": {},
   "outputs": [
    {
     "data": {
      "text/html": [
       "<div>\n",
       "<style scoped>\n",
       "    .dataframe tbody tr th:only-of-type {\n",
       "        vertical-align: middle;\n",
       "    }\n",
       "\n",
       "    .dataframe tbody tr th {\n",
       "        vertical-align: top;\n",
       "    }\n",
       "\n",
       "    .dataframe thead th {\n",
       "        text-align: right;\n",
       "    }\n",
       "</style>\n",
       "<table border=\"1\" class=\"dataframe\">\n",
       "  <thead>\n",
       "    <tr style=\"text-align: right;\">\n",
       "      <th></th>\n",
       "      <th>review</th>\n",
       "      <th>sentiment</th>\n",
       "    </tr>\n",
       "  </thead>\n",
       "  <tbody>\n",
       "    <tr>\n",
       "      <th>0</th>\n",
       "      <td>One of the other reviewers has mentioned that ...</td>\n",
       "      <td>positive</td>\n",
       "    </tr>\n",
       "    <tr>\n",
       "      <th>1</th>\n",
       "      <td>A wonderful little production. &lt;br /&gt;&lt;br /&gt;The...</td>\n",
       "      <td>positive</td>\n",
       "    </tr>\n",
       "    <tr>\n",
       "      <th>2</th>\n",
       "      <td>I thought this was a wonderful way to spend ti...</td>\n",
       "      <td>positive</td>\n",
       "    </tr>\n",
       "    <tr>\n",
       "      <th>3</th>\n",
       "      <td>Basically there's a family where a little boy ...</td>\n",
       "      <td>negative</td>\n",
       "    </tr>\n",
       "    <tr>\n",
       "      <th>4</th>\n",
       "      <td>Petter Mattei's \"Love in the Time of Money\" is...</td>\n",
       "      <td>positive</td>\n",
       "    </tr>\n",
       "  </tbody>\n",
       "</table>\n",
       "</div>"
      ],
      "text/plain": [
       "                                              review sentiment\n",
       "0  One of the other reviewers has mentioned that ...  positive\n",
       "1  A wonderful little production. <br /><br />The...  positive\n",
       "2  I thought this was a wonderful way to spend ti...  positive\n",
       "3  Basically there's a family where a little boy ...  negative\n",
       "4  Petter Mattei's \"Love in the Time of Money\" is...  positive"
      ]
     },
     "execution_count": 150,
     "metadata": {},
     "output_type": "execute_result"
    }
   ],
   "source": [
    "df.head()"
   ]
  },
  {
   "cell_type": "code",
   "execution_count": 151,
   "id": "138df96a",
   "metadata": {},
   "outputs": [],
   "source": [
    "df['positive'] = df.sentiment.apply(lambda x: 1 if x == 'positive' else 0)"
   ]
  },
  {
   "cell_type": "code",
   "execution_count": 152,
   "id": "3c80ea25",
   "metadata": {},
   "outputs": [
    {
     "data": {
      "text/html": [
       "<div>\n",
       "<style scoped>\n",
       "    .dataframe tbody tr th:only-of-type {\n",
       "        vertical-align: middle;\n",
       "    }\n",
       "\n",
       "    .dataframe tbody tr th {\n",
       "        vertical-align: top;\n",
       "    }\n",
       "\n",
       "    .dataframe thead th {\n",
       "        text-align: right;\n",
       "    }\n",
       "</style>\n",
       "<table border=\"1\" class=\"dataframe\">\n",
       "  <thead>\n",
       "    <tr style=\"text-align: right;\">\n",
       "      <th></th>\n",
       "      <th>review</th>\n",
       "      <th>sentiment</th>\n",
       "      <th>positive</th>\n",
       "    </tr>\n",
       "  </thead>\n",
       "  <tbody>\n",
       "    <tr>\n",
       "      <th>0</th>\n",
       "      <td>One of the other reviewers has mentioned that ...</td>\n",
       "      <td>positive</td>\n",
       "      <td>1</td>\n",
       "    </tr>\n",
       "    <tr>\n",
       "      <th>1</th>\n",
       "      <td>A wonderful little production. &lt;br /&gt;&lt;br /&gt;The...</td>\n",
       "      <td>positive</td>\n",
       "      <td>1</td>\n",
       "    </tr>\n",
       "    <tr>\n",
       "      <th>2</th>\n",
       "      <td>I thought this was a wonderful way to spend ti...</td>\n",
       "      <td>positive</td>\n",
       "      <td>1</td>\n",
       "    </tr>\n",
       "    <tr>\n",
       "      <th>3</th>\n",
       "      <td>Basically there's a family where a little boy ...</td>\n",
       "      <td>negative</td>\n",
       "      <td>0</td>\n",
       "    </tr>\n",
       "    <tr>\n",
       "      <th>4</th>\n",
       "      <td>Petter Mattei's \"Love in the Time of Money\" is...</td>\n",
       "      <td>positive</td>\n",
       "      <td>1</td>\n",
       "    </tr>\n",
       "  </tbody>\n",
       "</table>\n",
       "</div>"
      ],
      "text/plain": [
       "                                              review sentiment  positive\n",
       "0  One of the other reviewers has mentioned that ...  positive         1\n",
       "1  A wonderful little production. <br /><br />The...  positive         1\n",
       "2  I thought this was a wonderful way to spend ti...  positive         1\n",
       "3  Basically there's a family where a little boy ...  negative         0\n",
       "4  Petter Mattei's \"Love in the Time of Money\" is...  positive         1"
      ]
     },
     "execution_count": 152,
     "metadata": {},
     "output_type": "execute_result"
    }
   ],
   "source": [
    "df.head()"
   ]
  },
  {
   "cell_type": "code",
   "execution_count": 153,
   "id": "b4065c97",
   "metadata": {},
   "outputs": [],
   "source": [
    "X = df.review\n",
    "y = df.positive"
   ]
  },
  {
   "cell_type": "code",
   "execution_count": 154,
   "id": "fcc31253",
   "metadata": {},
   "outputs": [],
   "source": [
    "from sklearn.model_selection import train_test_split\n",
    "\n",
    "X_train, X_test, y_train, y_test = train_test_split(X, y, train_size = 0.8)"
   ]
  },
  {
   "cell_type": "code",
   "execution_count": 155,
   "id": "241eb61f",
   "metadata": {},
   "outputs": [],
   "source": [
    "cv = CountVectorizer()\n",
    "\n",
    "X_train_cv1 = cv.fit_transform(X_train)"
   ]
  },
  {
   "cell_type": "code",
   "execution_count": 146,
   "id": "76ea50db",
   "metadata": {},
   "outputs": [],
   "source": [
    "RFC = Pipeline([\n",
    "    ('vectorizer', CountVectorizer()),\n",
    "    ('random_forest', (RandomForestClassifier(n_estimators = 50, criterion = 'entropy')))\n",
    "])"
   ]
  },
  {
   "cell_type": "code",
   "execution_count": 157,
   "id": "7bca8525",
   "metadata": {},
   "outputs": [
    {
     "data": {
      "text/html": [
       "<style>#sk-container-id-3 {color: black;background-color: white;}#sk-container-id-3 pre{padding: 0;}#sk-container-id-3 div.sk-toggleable {background-color: white;}#sk-container-id-3 label.sk-toggleable__label {cursor: pointer;display: block;width: 100%;margin-bottom: 0;padding: 0.3em;box-sizing: border-box;text-align: center;}#sk-container-id-3 label.sk-toggleable__label-arrow:before {content: \"▸\";float: left;margin-right: 0.25em;color: #696969;}#sk-container-id-3 label.sk-toggleable__label-arrow:hover:before {color: black;}#sk-container-id-3 div.sk-estimator:hover label.sk-toggleable__label-arrow:before {color: black;}#sk-container-id-3 div.sk-toggleable__content {max-height: 0;max-width: 0;overflow: hidden;text-align: left;background-color: #f0f8ff;}#sk-container-id-3 div.sk-toggleable__content pre {margin: 0.2em;color: black;border-radius: 0.25em;background-color: #f0f8ff;}#sk-container-id-3 input.sk-toggleable__control:checked~div.sk-toggleable__content {max-height: 200px;max-width: 100%;overflow: auto;}#sk-container-id-3 input.sk-toggleable__control:checked~label.sk-toggleable__label-arrow:before {content: \"▾\";}#sk-container-id-3 div.sk-estimator input.sk-toggleable__control:checked~label.sk-toggleable__label {background-color: #d4ebff;}#sk-container-id-3 div.sk-label input.sk-toggleable__control:checked~label.sk-toggleable__label {background-color: #d4ebff;}#sk-container-id-3 input.sk-hidden--visually {border: 0;clip: rect(1px 1px 1px 1px);clip: rect(1px, 1px, 1px, 1px);height: 1px;margin: -1px;overflow: hidden;padding: 0;position: absolute;width: 1px;}#sk-container-id-3 div.sk-estimator {font-family: monospace;background-color: #f0f8ff;border: 1px dotted black;border-radius: 0.25em;box-sizing: border-box;margin-bottom: 0.5em;}#sk-container-id-3 div.sk-estimator:hover {background-color: #d4ebff;}#sk-container-id-3 div.sk-parallel-item::after {content: \"\";width: 100%;border-bottom: 1px solid gray;flex-grow: 1;}#sk-container-id-3 div.sk-label:hover label.sk-toggleable__label {background-color: #d4ebff;}#sk-container-id-3 div.sk-serial::before {content: \"\";position: absolute;border-left: 1px solid gray;box-sizing: border-box;top: 0;bottom: 0;left: 50%;z-index: 0;}#sk-container-id-3 div.sk-serial {display: flex;flex-direction: column;align-items: center;background-color: white;padding-right: 0.2em;padding-left: 0.2em;position: relative;}#sk-container-id-3 div.sk-item {position: relative;z-index: 1;}#sk-container-id-3 div.sk-parallel {display: flex;align-items: stretch;justify-content: center;background-color: white;position: relative;}#sk-container-id-3 div.sk-item::before, #sk-container-id-3 div.sk-parallel-item::before {content: \"\";position: absolute;border-left: 1px solid gray;box-sizing: border-box;top: 0;bottom: 0;left: 50%;z-index: -1;}#sk-container-id-3 div.sk-parallel-item {display: flex;flex-direction: column;z-index: 1;position: relative;background-color: white;}#sk-container-id-3 div.sk-parallel-item:first-child::after {align-self: flex-end;width: 50%;}#sk-container-id-3 div.sk-parallel-item:last-child::after {align-self: flex-start;width: 50%;}#sk-container-id-3 div.sk-parallel-item:only-child::after {width: 0;}#sk-container-id-3 div.sk-dashed-wrapped {border: 1px dashed gray;margin: 0 0.4em 0.5em 0.4em;box-sizing: border-box;padding-bottom: 0.4em;background-color: white;}#sk-container-id-3 div.sk-label label {font-family: monospace;font-weight: bold;display: inline-block;line-height: 1.2em;}#sk-container-id-3 div.sk-label-container {text-align: center;}#sk-container-id-3 div.sk-container {/* jupyter's `normalize.less` sets `[hidden] { display: none; }` but bootstrap.min.css set `[hidden] { display: none !important; }` so we also need the `!important` here to be able to override the default hidden behavior on the sphinx rendered scikit-learn.org. See: https://github.com/scikit-learn/scikit-learn/issues/21755 */display: inline-block !important;position: relative;}#sk-container-id-3 div.sk-text-repr-fallback {display: none;}</style><div id=\"sk-container-id-3\" class=\"sk-top-container\"><div class=\"sk-text-repr-fallback\"><pre>Pipeline(steps=[(&#x27;vectorizer&#x27;, CountVectorizer()),\n",
       "                (&#x27;random_forest&#x27;,\n",
       "                 RandomForestClassifier(criterion=&#x27;entropy&#x27;, n_estimators=50))])</pre><b>In a Jupyter environment, please rerun this cell to show the HTML representation or trust the notebook. <br />On GitHub, the HTML representation is unable to render, please try loading this page with nbviewer.org.</b></div><div class=\"sk-container\" hidden><div class=\"sk-item sk-dashed-wrapped\"><div class=\"sk-label-container\"><div class=\"sk-label sk-toggleable\"><input class=\"sk-toggleable__control sk-hidden--visually\" id=\"sk-estimator-id-5\" type=\"checkbox\" ><label for=\"sk-estimator-id-5\" class=\"sk-toggleable__label sk-toggleable__label-arrow\">Pipeline</label><div class=\"sk-toggleable__content\"><pre>Pipeline(steps=[(&#x27;vectorizer&#x27;, CountVectorizer()),\n",
       "                (&#x27;random_forest&#x27;,\n",
       "                 RandomForestClassifier(criterion=&#x27;entropy&#x27;, n_estimators=50))])</pre></div></div></div><div class=\"sk-serial\"><div class=\"sk-item\"><div class=\"sk-estimator sk-toggleable\"><input class=\"sk-toggleable__control sk-hidden--visually\" id=\"sk-estimator-id-6\" type=\"checkbox\" ><label for=\"sk-estimator-id-6\" class=\"sk-toggleable__label sk-toggleable__label-arrow\">CountVectorizer</label><div class=\"sk-toggleable__content\"><pre>CountVectorizer()</pre></div></div></div><div class=\"sk-item\"><div class=\"sk-estimator sk-toggleable\"><input class=\"sk-toggleable__control sk-hidden--visually\" id=\"sk-estimator-id-7\" type=\"checkbox\" ><label for=\"sk-estimator-id-7\" class=\"sk-toggleable__label sk-toggleable__label-arrow\">RandomForestClassifier</label><div class=\"sk-toggleable__content\"><pre>RandomForestClassifier(criterion=&#x27;entropy&#x27;, n_estimators=50)</pre></div></div></div></div></div></div></div>"
      ],
      "text/plain": [
       "Pipeline(steps=[('vectorizer', CountVectorizer()),\n",
       "                ('random_forest',\n",
       "                 RandomForestClassifier(criterion='entropy', n_estimators=50))])"
      ]
     },
     "execution_count": 157,
     "metadata": {},
     "output_type": "execute_result"
    }
   ],
   "source": [
    "RFC.fit(X_train, y_train)"
   ]
  },
  {
   "cell_type": "code",
   "execution_count": 159,
   "id": "61a0c4f3",
   "metadata": {},
   "outputs": [],
   "source": [
    "y_pred = RFC.predict(X_test)"
   ]
  },
  {
   "cell_type": "code",
   "execution_count": 160,
   "id": "39ca034c",
   "metadata": {},
   "outputs": [
    {
     "name": "stdout",
     "output_type": "stream",
     "text": [
      "              precision    recall  f1-score   support\n",
      "\n",
      "           0       0.84      0.84      0.84      4998\n",
      "           1       0.84      0.84      0.84      5002\n",
      "\n",
      "    accuracy                           0.84     10000\n",
      "   macro avg       0.84      0.84      0.84     10000\n",
      "weighted avg       0.84      0.84      0.84     10000\n",
      "\n"
     ]
    }
   ],
   "source": [
    "print(classification_report(y_pred, y_test))"
   ]
  },
  {
   "cell_type": "code",
   "execution_count": null,
   "id": "23be542f",
   "metadata": {},
   "outputs": [],
   "source": []
  }
 ],
 "metadata": {
  "kernelspec": {
   "display_name": "Python 3 (ipykernel)",
   "language": "python",
   "name": "python3"
  },
  "language_info": {
   "codemirror_mode": {
    "name": "ipython",
    "version": 3
   },
   "file_extension": ".py",
   "mimetype": "text/x-python",
   "name": "python",
   "nbconvert_exporter": "python",
   "pygments_lexer": "ipython3",
   "version": "3.11.5"
  }
 },
 "nbformat": 4,
 "nbformat_minor": 5
}
