{
 "cells": [
  {
   "cell_type": "code",
   "execution_count": 25,
   "id": "b5d9c58c",
   "metadata": {},
   "outputs": [],
   "source": [
    "import pandas as pd\n",
    "import numpy as np\n",
    "import matplotlib\n",
    "import seaborn as sn\n",
    "from matplotlib import pyplot as plt\n",
    "%matplotlib inline"
   ]
  },
  {
   "cell_type": "code",
   "execution_count": 19,
   "id": "f60b877d",
   "metadata": {},
   "outputs": [],
   "source": [
    "df = pd.read_csv(r'C:\\DS practice\\bhp.csv')"
   ]
  },
  {
   "cell_type": "code",
   "execution_count": 20,
   "id": "10ddc9d2",
   "metadata": {},
   "outputs": [
    {
     "data": {
      "text/html": [
       "<div>\n",
       "<style scoped>\n",
       "    .dataframe tbody tr th:only-of-type {\n",
       "        vertical-align: middle;\n",
       "    }\n",
       "\n",
       "    .dataframe tbody tr th {\n",
       "        vertical-align: top;\n",
       "    }\n",
       "\n",
       "    .dataframe thead th {\n",
       "        text-align: right;\n",
       "    }\n",
       "</style>\n",
       "<table border=\"1\" class=\"dataframe\">\n",
       "  <thead>\n",
       "    <tr style=\"text-align: right;\">\n",
       "      <th></th>\n",
       "      <th>location</th>\n",
       "      <th>size</th>\n",
       "      <th>total_sqft</th>\n",
       "      <th>bath</th>\n",
       "      <th>price</th>\n",
       "      <th>bhk</th>\n",
       "      <th>price_per_sqft</th>\n",
       "    </tr>\n",
       "  </thead>\n",
       "  <tbody>\n",
       "    <tr>\n",
       "      <th>0</th>\n",
       "      <td>Electronic City Phase II</td>\n",
       "      <td>2 BHK</td>\n",
       "      <td>1056.0000</td>\n",
       "      <td>2.0000</td>\n",
       "      <td>39.0700</td>\n",
       "      <td>2</td>\n",
       "      <td>3699</td>\n",
       "    </tr>\n",
       "    <tr>\n",
       "      <th>1</th>\n",
       "      <td>Chikka Tirupathi</td>\n",
       "      <td>4 Bedroom</td>\n",
       "      <td>2600.0000</td>\n",
       "      <td>5.0000</td>\n",
       "      <td>120.0000</td>\n",
       "      <td>4</td>\n",
       "      <td>4615</td>\n",
       "    </tr>\n",
       "    <tr>\n",
       "      <th>2</th>\n",
       "      <td>Uttarahalli</td>\n",
       "      <td>3 BHK</td>\n",
       "      <td>1440.0000</td>\n",
       "      <td>2.0000</td>\n",
       "      <td>62.0000</td>\n",
       "      <td>3</td>\n",
       "      <td>4305</td>\n",
       "    </tr>\n",
       "    <tr>\n",
       "      <th>3</th>\n",
       "      <td>Lingadheeranahalli</td>\n",
       "      <td>3 BHK</td>\n",
       "      <td>1521.0000</td>\n",
       "      <td>3.0000</td>\n",
       "      <td>95.0000</td>\n",
       "      <td>3</td>\n",
       "      <td>6245</td>\n",
       "    </tr>\n",
       "    <tr>\n",
       "      <th>4</th>\n",
       "      <td>Kothanur</td>\n",
       "      <td>2 BHK</td>\n",
       "      <td>1200.0000</td>\n",
       "      <td>2.0000</td>\n",
       "      <td>51.0000</td>\n",
       "      <td>2</td>\n",
       "      <td>4250</td>\n",
       "    </tr>\n",
       "  </tbody>\n",
       "</table>\n",
       "</div>"
      ],
      "text/plain": [
       "                   location       size  total_sqft   bath    price  bhk  \\\n",
       "0  Electronic City Phase II      2 BHK   1056.0000 2.0000  39.0700    2   \n",
       "1          Chikka Tirupathi  4 Bedroom   2600.0000 5.0000 120.0000    4   \n",
       "2               Uttarahalli      3 BHK   1440.0000 2.0000  62.0000    3   \n",
       "3        Lingadheeranahalli      3 BHK   1521.0000 3.0000  95.0000    3   \n",
       "4                  Kothanur      2 BHK   1200.0000 2.0000  51.0000    2   \n",
       "\n",
       "   price_per_sqft  \n",
       "0            3699  \n",
       "1            4615  \n",
       "2            4305  \n",
       "3            6245  \n",
       "4            4250  "
      ]
     },
     "execution_count": 20,
     "metadata": {},
     "output_type": "execute_result"
    }
   ],
   "source": [
    "df.head()"
   ]
  },
  {
   "cell_type": "code",
   "execution_count": 40,
   "id": "2064b393",
   "metadata": {},
   "outputs": [
    {
     "data": {
      "text/plain": [
       "count      13200.0000\n",
       "mean        7920.3367\n",
       "std       106727.1603\n",
       "min          267.0000\n",
       "25%         4267.0000\n",
       "50%         5438.0000\n",
       "75%         7317.0000\n",
       "max     12000000.0000\n",
       "Name: price_per_sqft, dtype: float64"
      ]
     },
     "execution_count": 40,
     "metadata": {},
     "output_type": "execute_result"
    }
   ],
   "source": [
    "df['price_per_sqft'].describe()"
   ]
  },
  {
   "cell_type": "code",
   "execution_count": 33,
   "id": "e2a0b35b",
   "metadata": {},
   "outputs": [
    {
     "data": {
      "text/plain": [
       "(1366.184, 50959.36200000098)"
      ]
     },
     "execution_count": 33,
     "metadata": {},
     "output_type": "execute_result"
    }
   ],
   "source": [
    "lower_limit, upper_limit = df['price_per_sqft'].quantile([0.001,0.999])\n",
    "lower_limit, upper_limit"
   ]
  },
  {
   "cell_type": "code",
   "execution_count": 42,
   "id": "2172037a",
   "metadata": {},
   "outputs": [
    {
     "data": {
      "text/plain": [
       "<Axes: xlabel='price_per_sqft', ylabel='Count'>"
      ]
     },
     "execution_count": 42,
     "metadata": {},
     "output_type": "execute_result"
    },
    {
     "data": {
      "image/png": "[encoded data removed]",
      "text/plain": [
       "<Figure size 640x480 with 1 Axes>"
      ]
     },
     "metadata": {},
     "output_type": "display_data"
    }
   ],
   "source": [
    "sn.histplot(df.price_per_sqft,bins = 20, kde = True)"
   ]
  },
  {
   "cell_type": "code",
   "execution_count": 80,
   "id": "05af9fa9",
   "metadata": {},
   "outputs": [
    {
     "data": {
      "text/html": [
       "<div>\n",
       "<style scoped>\n",
       "    .dataframe tbody tr th:only-of-type {\n",
       "        vertical-align: middle;\n",
       "    }\n",
       "\n",
       "    .dataframe tbody tr th {\n",
       "        vertical-align: top;\n",
       "    }\n",
       "\n",
       "    .dataframe thead th {\n",
       "        text-align: right;\n",
       "    }\n",
       "</style>\n",
       "<table border=\"1\" class=\"dataframe\">\n",
       "  <thead>\n",
       "    <tr style=\"text-align: right;\">\n",
       "      <th></th>\n",
       "      <th>location</th>\n",
       "      <th>size</th>\n",
       "      <th>total_sqft</th>\n",
       "      <th>bath</th>\n",
       "      <th>price</th>\n",
       "      <th>bhk</th>\n",
       "      <th>price_per_sqft</th>\n",
       "    </tr>\n",
       "  </thead>\n",
       "  <tbody>\n",
       "    <tr>\n",
       "      <th>5597</th>\n",
       "      <td>JP Nagar</td>\n",
       "      <td>2 BHK</td>\n",
       "      <td>1100.0000</td>\n",
       "      <td>1.0000</td>\n",
       "      <td>15.0000</td>\n",
       "      <td>2</td>\n",
       "      <td>1363</td>\n",
       "    </tr>\n",
       "    <tr>\n",
       "      <th>6356</th>\n",
       "      <td>Bommenahalli</td>\n",
       "      <td>4 Bedroom</td>\n",
       "      <td>2940.0000</td>\n",
       "      <td>3.0000</td>\n",
       "      <td>2250.0000</td>\n",
       "      <td>4</td>\n",
       "      <td>76530</td>\n",
       "    </tr>\n",
       "    <tr>\n",
       "      <th>9144</th>\n",
       "      <td>other</td>\n",
       "      <td>4 Bedroom</td>\n",
       "      <td>10961.0000</td>\n",
       "      <td>4.0000</td>\n",
       "      <td>80.0000</td>\n",
       "      <td>4</td>\n",
       "      <td>729</td>\n",
       "    </tr>\n",
       "    <tr>\n",
       "      <th>7799</th>\n",
       "      <td>other</td>\n",
       "      <td>4 BHK</td>\n",
       "      <td>2000.0000</td>\n",
       "      <td>3.0000</td>\n",
       "      <td>1063.0000</td>\n",
       "      <td>4</td>\n",
       "      <td>53150</td>\n",
       "    </tr>\n",
       "    <tr>\n",
       "      <th>1005</th>\n",
       "      <td>other</td>\n",
       "      <td>1 BHK</td>\n",
       "      <td>15.0000</td>\n",
       "      <td>1.0000</td>\n",
       "      <td>30.0000</td>\n",
       "      <td>1</td>\n",
       "      <td>200000</td>\n",
       "    </tr>\n",
       "    <tr>\n",
       "      <th>7575</th>\n",
       "      <td>other</td>\n",
       "      <td>1 BHK</td>\n",
       "      <td>425.0000</td>\n",
       "      <td>1.0000</td>\n",
       "      <td>750.0000</td>\n",
       "      <td>1</td>\n",
       "      <td>176470</td>\n",
       "    </tr>\n",
       "    <tr>\n",
       "      <th>11635</th>\n",
       "      <td>Begur</td>\n",
       "      <td>3 BHK</td>\n",
       "      <td>2400.0000</td>\n",
       "      <td>3.0000</td>\n",
       "      <td>12.0000</td>\n",
       "      <td>3</td>\n",
       "      <td>500</td>\n",
       "    </tr>\n",
       "    <tr>\n",
       "      <th>7862</th>\n",
       "      <td>JP Nagar</td>\n",
       "      <td>3 BHK</td>\n",
       "      <td>20000.0000</td>\n",
       "      <td>3.0000</td>\n",
       "      <td>175.0000</td>\n",
       "      <td>3</td>\n",
       "      <td>875</td>\n",
       "    </tr>\n",
       "    <tr>\n",
       "      <th>5343</th>\n",
       "      <td>other</td>\n",
       "      <td>9 BHK</td>\n",
       "      <td>42000.0000</td>\n",
       "      <td>8.0000</td>\n",
       "      <td>175.0000</td>\n",
       "      <td>9</td>\n",
       "      <td>416</td>\n",
       "    </tr>\n",
       "    <tr>\n",
       "      <th>9436</th>\n",
       "      <td>Indira Nagar</td>\n",
       "      <td>4 Bedroom</td>\n",
       "      <td>2400.0000</td>\n",
       "      <td>5.0000</td>\n",
       "      <td>1250.0000</td>\n",
       "      <td>4</td>\n",
       "      <td>52083</td>\n",
       "    </tr>\n",
       "  </tbody>\n",
       "</table>\n",
       "</div>"
      ],
      "text/plain": [
       "           location       size  total_sqft   bath     price  bhk  \\\n",
       "5597       JP Nagar      2 BHK   1100.0000 1.0000   15.0000    2   \n",
       "6356   Bommenahalli  4 Bedroom   2940.0000 3.0000 2250.0000    4   \n",
       "9144          other  4 Bedroom  10961.0000 4.0000   80.0000    4   \n",
       "7799          other      4 BHK   2000.0000 3.0000 1063.0000    4   \n",
       "1005          other      1 BHK     15.0000 1.0000   30.0000    1   \n",
       "7575          other      1 BHK    425.0000 1.0000  750.0000    1   \n",
       "11635         Begur      3 BHK   2400.0000 3.0000   12.0000    3   \n",
       "7862       JP Nagar      3 BHK  20000.0000 3.0000  175.0000    3   \n",
       "5343          other      9 BHK  42000.0000 8.0000  175.0000    9   \n",
       "9436   Indira Nagar  4 Bedroom   2400.0000 5.0000 1250.0000    4   \n",
       "\n",
       "       price_per_sqft  \n",
       "5597             1363  \n",
       "6356            76530  \n",
       "9144              729  \n",
       "7799            53150  \n",
       "1005           200000  \n",
       "7575           176470  \n",
       "11635             500  \n",
       "7862              875  \n",
       "5343              416  \n",
       "9436            52083  "
      ]
     },
     "execution_count": 80,
     "metadata": {},
     "output_type": "execute_result"
    }
   ],
   "source": [
    "Outliers = df[(df.price_per_sqft < lower_limit) | (df.price_per_sqft > upper_limit)]\n",
    "Outliers.sample(10)"
   ]
  },
  {
   "cell_type": "code",
   "execution_count": 45,
   "id": "e0845e25",
   "metadata": {},
   "outputs": [],
   "source": [
    "df2 = df[(df.price_per_sqft > lower_limit) & (df.price_per_sqft < upper_limit)]"
   ]
  },
  {
   "cell_type": "code",
   "execution_count": 46,
   "id": "53f91728",
   "metadata": {},
   "outputs": [
    {
     "data": {
      "text/plain": [
       "<Axes: xlabel='price_per_sqft', ylabel='Count'>"
      ]
     },
     "execution_count": 46,
     "metadata": {},
     "output_type": "execute_result"
    },
    {
     "data": {
      "image/png": "[encoded data removed]",
      "text/plain": [
       "<Figure size 640x480 with 1 Axes>"
      ]
     },
     "metadata": {},
     "output_type": "display_data"
    }
   ],
   "source": [
    "sn.histplot(df2.price_per_sqft,bins = 20, kde = True)"
   ]
  },
  {
   "cell_type": "code",
   "execution_count": 47,
   "id": "8bef73a0",
   "metadata": {},
   "outputs": [
    {
     "data": {
      "text/plain": [
       "(13200, 7)"
      ]
     },
     "execution_count": 47,
     "metadata": {},
     "output_type": "execute_result"
    }
   ],
   "source": [
    "df.shape"
   ]
  },
  {
   "cell_type": "code",
   "execution_count": 48,
   "id": "7ffb7f62",
   "metadata": {},
   "outputs": [
    {
     "data": {
      "text/plain": [
       "(13172, 7)"
      ]
     },
     "execution_count": 48,
     "metadata": {},
     "output_type": "execute_result"
    }
   ],
   "source": [
    "df2.shape"
   ]
  },
  {
   "cell_type": "code",
   "execution_count": 50,
   "id": "014a9d3d",
   "metadata": {},
   "outputs": [
    {
     "data": {
      "text/plain": [
       "28"
      ]
     },
     "execution_count": 50,
     "metadata": {},
     "output_type": "execute_result"
    }
   ],
   "source": [
    "df.shape[0] - df2.shape[0]"
   ]
  },
  {
   "cell_type": "code",
   "execution_count": 64,
   "id": "dc0f39de",
   "metadata": {},
   "outputs": [],
   "source": [
    "max_limit = df2.price_per_sqft.mean() + 4*df2.price_per_sqft.std()\n",
    "min_limit = df2.price_per_sqft.mean() - 4*df2.price_per_sqft.std()"
   ]
  },
  {
   "cell_type": "code",
   "execution_count": 72,
   "id": "3f108aea",
   "metadata": {},
   "outputs": [],
   "source": [
    "Outliers2 = df2[(df2.price_per_sqft < min_limit) | (df2.price_per_sqft > max_limit)]"
   ]
  },
  {
   "cell_type": "code",
   "execution_count": 74,
   "id": "c20372df",
   "metadata": {},
   "outputs": [
    {
     "data": {
      "text/html": [
       "<div>\n",
       "<style scoped>\n",
       "    .dataframe tbody tr th:only-of-type {\n",
       "        vertical-align: middle;\n",
       "    }\n",
       "\n",
       "    .dataframe tbody tr th {\n",
       "        vertical-align: top;\n",
       "    }\n",
       "\n",
       "    .dataframe thead th {\n",
       "        text-align: right;\n",
       "    }\n",
       "</style>\n",
       "<table border=\"1\" class=\"dataframe\">\n",
       "  <thead>\n",
       "    <tr style=\"text-align: right;\">\n",
       "      <th></th>\n",
       "      <th>location</th>\n",
       "      <th>size</th>\n",
       "      <th>total_sqft</th>\n",
       "      <th>bath</th>\n",
       "      <th>price</th>\n",
       "      <th>bhk</th>\n",
       "      <th>price_per_sqft</th>\n",
       "    </tr>\n",
       "  </thead>\n",
       "  <tbody>\n",
       "    <tr>\n",
       "      <th>9</th>\n",
       "      <td>other</td>\n",
       "      <td>6 Bedroom</td>\n",
       "      <td>1020.0000</td>\n",
       "      <td>6.0000</td>\n",
       "      <td>370.0000</td>\n",
       "      <td>6</td>\n",
       "      <td>36274</td>\n",
       "    </tr>\n",
       "    <tr>\n",
       "      <th>45</th>\n",
       "      <td>HSR Layout</td>\n",
       "      <td>8 Bedroom</td>\n",
       "      <td>600.0000</td>\n",
       "      <td>9.0000</td>\n",
       "      <td>200.0000</td>\n",
       "      <td>8</td>\n",
       "      <td>33333</td>\n",
       "    </tr>\n",
       "    <tr>\n",
       "      <th>190</th>\n",
       "      <td>Bellandur</td>\n",
       "      <td>4 Bedroom</td>\n",
       "      <td>1200.0000</td>\n",
       "      <td>5.0000</td>\n",
       "      <td>325.0000</td>\n",
       "      <td>4</td>\n",
       "      <td>27083</td>\n",
       "    </tr>\n",
       "    <tr>\n",
       "      <th>733</th>\n",
       "      <td>Cunningham Road</td>\n",
       "      <td>4 BHK</td>\n",
       "      <td>5270.0000</td>\n",
       "      <td>4.0000</td>\n",
       "      <td>1250.0000</td>\n",
       "      <td>4</td>\n",
       "      <td>23719</td>\n",
       "    </tr>\n",
       "    <tr>\n",
       "      <th>760</th>\n",
       "      <td>other</td>\n",
       "      <td>9 Bedroom</td>\n",
       "      <td>600.0000</td>\n",
       "      <td>9.0000</td>\n",
       "      <td>190.0000</td>\n",
       "      <td>9</td>\n",
       "      <td>31666</td>\n",
       "    </tr>\n",
       "    <tr>\n",
       "      <th>...</th>\n",
       "      <td>...</td>\n",
       "      <td>...</td>\n",
       "      <td>...</td>\n",
       "      <td>...</td>\n",
       "      <td>...</td>\n",
       "      <td>...</td>\n",
       "      <td>...</td>\n",
       "    </tr>\n",
       "    <tr>\n",
       "      <th>13081</th>\n",
       "      <td>other</td>\n",
       "      <td>6 Bedroom</td>\n",
       "      <td>8000.0000</td>\n",
       "      <td>6.0000</td>\n",
       "      <td>2800.0000</td>\n",
       "      <td>6</td>\n",
       "      <td>35000</td>\n",
       "    </tr>\n",
       "    <tr>\n",
       "      <th>13094</th>\n",
       "      <td>other</td>\n",
       "      <td>4 Bedroom</td>\n",
       "      <td>1200.0000</td>\n",
       "      <td>5.0000</td>\n",
       "      <td>325.0000</td>\n",
       "      <td>4</td>\n",
       "      <td>27083</td>\n",
       "    </tr>\n",
       "    <tr>\n",
       "      <th>13127</th>\n",
       "      <td>other</td>\n",
       "      <td>4 Bedroom</td>\n",
       "      <td>1200.0000</td>\n",
       "      <td>5.0000</td>\n",
       "      <td>325.0000</td>\n",
       "      <td>4</td>\n",
       "      <td>27083</td>\n",
       "    </tr>\n",
       "    <tr>\n",
       "      <th>13185</th>\n",
       "      <td>Hulimavu</td>\n",
       "      <td>1 BHK</td>\n",
       "      <td>500.0000</td>\n",
       "      <td>1.0000</td>\n",
       "      <td>220.0000</td>\n",
       "      <td>1</td>\n",
       "      <td>44000</td>\n",
       "    </tr>\n",
       "    <tr>\n",
       "      <th>13186</th>\n",
       "      <td>other</td>\n",
       "      <td>4 Bedroom</td>\n",
       "      <td>1200.0000</td>\n",
       "      <td>5.0000</td>\n",
       "      <td>325.0000</td>\n",
       "      <td>4</td>\n",
       "      <td>27083</td>\n",
       "    </tr>\n",
       "  </tbody>\n",
       "</table>\n",
       "<p>125 rows × 7 columns</p>\n",
       "</div>"
      ],
      "text/plain": [
       "              location       size  total_sqft   bath     price  bhk  \\\n",
       "9                other  6 Bedroom   1020.0000 6.0000  370.0000    6   \n",
       "45          HSR Layout  8 Bedroom    600.0000 9.0000  200.0000    8   \n",
       "190          Bellandur  4 Bedroom   1200.0000 5.0000  325.0000    4   \n",
       "733    Cunningham Road      4 BHK   5270.0000 4.0000 1250.0000    4   \n",
       "760              other  9 Bedroom    600.0000 9.0000  190.0000    9   \n",
       "...                ...        ...         ...    ...       ...  ...   \n",
       "13081            other  6 Bedroom   8000.0000 6.0000 2800.0000    6   \n",
       "13094            other  4 Bedroom   1200.0000 5.0000  325.0000    4   \n",
       "13127            other  4 Bedroom   1200.0000 5.0000  325.0000    4   \n",
       "13185         Hulimavu      1 BHK    500.0000 1.0000  220.0000    1   \n",
       "13186            other  4 Bedroom   1200.0000 5.0000  325.0000    4   \n",
       "\n",
       "       price_per_sqft  \n",
       "9               36274  \n",
       "45              33333  \n",
       "190             27083  \n",
       "733             23719  \n",
       "760             31666  \n",
       "...               ...  \n",
       "13081           35000  \n",
       "13094           27083  \n",
       "13127           27083  \n",
       "13185           44000  \n",
       "13186           27083  \n",
       "\n",
       "[125 rows x 7 columns]"
      ]
     },
     "execution_count": 74,
     "metadata": {},
     "output_type": "execute_result"
    }
   ],
   "source": [
    "Outliers2"
   ]
  },
  {
   "cell_type": "code",
   "execution_count": 70,
   "id": "911ea4c0",
   "metadata": {},
   "outputs": [],
   "source": [
    "df3 = df2[(df2.price_per_sqft > min_limit) & (df2.price_per_sqft < max_limit)]"
   ]
  },
  {
   "cell_type": "code",
   "execution_count": 71,
   "id": "1171cffa",
   "metadata": {},
   "outputs": [
    {
     "data": {
      "text/plain": [
       "125"
      ]
     },
     "execution_count": 71,
     "metadata": {},
     "output_type": "execute_result"
    }
   ],
   "source": [
    "df2.shape[0] - df3.shape[0]"
   ]
  },
  {
   "cell_type": "code",
   "execution_count": 81,
   "id": "6813fc36",
   "metadata": {},
   "outputs": [
    {
     "data": {
      "text/plain": [
       "(13047, 7)"
      ]
     },
     "execution_count": 81,
     "metadata": {},
     "output_type": "execute_result"
    }
   ],
   "source": [
    "df3.shape"
   ]
  },
  {
   "cell_type": "code",
   "execution_count": 84,
   "id": "17848cf4",
   "metadata": {},
   "outputs": [
    {
     "data": {
      "text/plain": [
       "<Axes: xlabel='price_per_sqft', ylabel='Count'>"
      ]
     },
     "execution_count": 84,
     "metadata": {},
     "output_type": "execute_result"
    },
    {
     "data": {
      "image/png": "[encoded data removed]",
      "text/plain": [
       "<Figure size 640x480 with 1 Axes>"
      ]
     },
     "metadata": {},
     "output_type": "display_data"
    }
   ],
   "source": [
    "sn.histplot(df3.price_per_sqft, kde = True, bins = 20)"
   ]
  },
  {
   "cell_type": "code",
   "execution_count": 92,
   "id": "085c28e5",
   "metadata": {},
   "outputs": [
    {
     "name": "stderr",
     "output_type": "stream",
     "text": [
      "C:\\Users\\chauzani\\AppData\\Local\\Temp\\ipykernel_22716\\3749579534.py:1: SettingWithCopyWarning: \n",
      "A value is trying to be set on a copy of a slice from a DataFrame.\n",
      "Try using .loc[row_indexer,col_indexer] = value instead\n",
      "\n",
      "See the caveats in the documentation: https://pandas.pydata.org/pandas-docs/stable/user_guide/indexing.html#returning-a-view-versus-a-copy\n",
      "  df2['zscore'] = (df2.price_per_sqft - df2.price_per_sqft.mean())/df2.price_per_sqft.std()\n"
     ]
    },
    {
     "data": {
      "text/html": [
       "<div>\n",
       "<style scoped>\n",
       "    .dataframe tbody tr th:only-of-type {\n",
       "        vertical-align: middle;\n",
       "    }\n",
       "\n",
       "    .dataframe tbody tr th {\n",
       "        vertical-align: top;\n",
       "    }\n",
       "\n",
       "    .dataframe thead th {\n",
       "        text-align: right;\n",
       "    }\n",
       "</style>\n",
       "<table border=\"1\" class=\"dataframe\">\n",
       "  <thead>\n",
       "    <tr style=\"text-align: right;\">\n",
       "      <th></th>\n",
       "      <th>location</th>\n",
       "      <th>size</th>\n",
       "      <th>total_sqft</th>\n",
       "      <th>bath</th>\n",
       "      <th>price</th>\n",
       "      <th>bhk</th>\n",
       "      <th>price_per_sqft</th>\n",
       "      <th>z-score</th>\n",
       "      <th>zscore</th>\n",
       "    </tr>\n",
       "  </thead>\n",
       "  <tbody>\n",
       "    <tr>\n",
       "      <th>5283</th>\n",
       "      <td>other</td>\n",
       "      <td>2 BHK</td>\n",
       "      <td>1070.0000</td>\n",
       "      <td>2.0000</td>\n",
       "      <td>33.1500</td>\n",
       "      <td>2</td>\n",
       "      <td>3098</td>\n",
       "      <td>-0.8611</td>\n",
       "      <td>-0.8611</td>\n",
       "    </tr>\n",
       "    <tr>\n",
       "      <th>11497</th>\n",
       "      <td>Hoodi</td>\n",
       "      <td>2 BHK</td>\n",
       "      <td>1447.0000</td>\n",
       "      <td>3.0000</td>\n",
       "      <td>76.0000</td>\n",
       "      <td>2</td>\n",
       "      <td>5252</td>\n",
       "      <td>-0.3409</td>\n",
       "      <td>-0.3409</td>\n",
       "    </tr>\n",
       "    <tr>\n",
       "      <th>12813</th>\n",
       "      <td>Budigere</td>\n",
       "      <td>2 BHK</td>\n",
       "      <td>1153.0000</td>\n",
       "      <td>2.0000</td>\n",
       "      <td>56.5000</td>\n",
       "      <td>2</td>\n",
       "      <td>4900</td>\n",
       "      <td>-0.4259</td>\n",
       "      <td>-0.4259</td>\n",
       "    </tr>\n",
       "    <tr>\n",
       "      <th>6835</th>\n",
       "      <td>Chandapura</td>\n",
       "      <td>2 BHK</td>\n",
       "      <td>800.0000</td>\n",
       "      <td>2.0000</td>\n",
       "      <td>25.0000</td>\n",
       "      <td>2</td>\n",
       "      <td>3125</td>\n",
       "      <td>-0.8545</td>\n",
       "      <td>-0.8545</td>\n",
       "    </tr>\n",
       "    <tr>\n",
       "      <th>2346</th>\n",
       "      <td>Electronics City Phase 1</td>\n",
       "      <td>2 BHK</td>\n",
       "      <td>1150.0000</td>\n",
       "      <td>2.0000</td>\n",
       "      <td>39.0000</td>\n",
       "      <td>2</td>\n",
       "      <td>3391</td>\n",
       "      <td>-0.7903</td>\n",
       "      <td>-0.7903</td>\n",
       "    </tr>\n",
       "    <tr>\n",
       "      <th>9121</th>\n",
       "      <td>Seegehalli</td>\n",
       "      <td>4 Bedroom</td>\n",
       "      <td>4700.0000</td>\n",
       "      <td>5.0000</td>\n",
       "      <td>800.0000</td>\n",
       "      <td>4</td>\n",
       "      <td>17021</td>\n",
       "      <td>2.5012</td>\n",
       "      <td>2.5012</td>\n",
       "    </tr>\n",
       "    <tr>\n",
       "      <th>11128</th>\n",
       "      <td>Sarjapur  Road</td>\n",
       "      <td>2 BHK</td>\n",
       "      <td>1034.0000</td>\n",
       "      <td>2.0000</td>\n",
       "      <td>38.0000</td>\n",
       "      <td>2</td>\n",
       "      <td>3675</td>\n",
       "      <td>-0.7217</td>\n",
       "      <td>-0.7217</td>\n",
       "    </tr>\n",
       "    <tr>\n",
       "      <th>8283</th>\n",
       "      <td>other</td>\n",
       "      <td>3 BHK</td>\n",
       "      <td>1998.0000</td>\n",
       "      <td>3.0000</td>\n",
       "      <td>117.0000</td>\n",
       "      <td>3</td>\n",
       "      <td>5855</td>\n",
       "      <td>-0.1953</td>\n",
       "      <td>-0.1953</td>\n",
       "    </tr>\n",
       "    <tr>\n",
       "      <th>10156</th>\n",
       "      <td>Hulimavu</td>\n",
       "      <td>2 BHK</td>\n",
       "      <td>1315.0000</td>\n",
       "      <td>2.0000</td>\n",
       "      <td>60.4800</td>\n",
       "      <td>2</td>\n",
       "      <td>4599</td>\n",
       "      <td>-0.4986</td>\n",
       "      <td>-0.4986</td>\n",
       "    </tr>\n",
       "    <tr>\n",
       "      <th>5532</th>\n",
       "      <td>Marathahalli</td>\n",
       "      <td>2 BHK</td>\n",
       "      <td>1050.0000</td>\n",
       "      <td>2.0000</td>\n",
       "      <td>65.0000</td>\n",
       "      <td>2</td>\n",
       "      <td>6190</td>\n",
       "      <td>-0.1144</td>\n",
       "      <td>-0.1144</td>\n",
       "    </tr>\n",
       "  </tbody>\n",
       "</table>\n",
       "</div>"
      ],
      "text/plain": [
       "                       location       size  total_sqft   bath    price  bhk  \\\n",
       "5283                      other      2 BHK   1070.0000 2.0000  33.1500    2   \n",
       "11497                     Hoodi      2 BHK   1447.0000 3.0000  76.0000    2   \n",
       "12813                  Budigere      2 BHK   1153.0000 2.0000  56.5000    2   \n",
       "6835                 Chandapura      2 BHK    800.0000 2.0000  25.0000    2   \n",
       "2346   Electronics City Phase 1      2 BHK   1150.0000 2.0000  39.0000    2   \n",
       "9121                 Seegehalli  4 Bedroom   4700.0000 5.0000 800.0000    4   \n",
       "11128            Sarjapur  Road      2 BHK   1034.0000 2.0000  38.0000    2   \n",
       "8283                      other      3 BHK   1998.0000 3.0000 117.0000    3   \n",
       "10156                  Hulimavu      2 BHK   1315.0000 2.0000  60.4800    2   \n",
       "5532               Marathahalli      2 BHK   1050.0000 2.0000  65.0000    2   \n",
       "\n",
       "       price_per_sqft  z-score  zscore  \n",
       "5283             3098  -0.8611 -0.8611  \n",
       "11497            5252  -0.3409 -0.3409  \n",
       "12813            4900  -0.4259 -0.4259  \n",
       "6835             3125  -0.8545 -0.8545  \n",
       "2346             3391  -0.7903 -0.7903  \n",
       "9121            17021   2.5012  2.5012  \n",
       "11128            3675  -0.7217 -0.7217  \n",
       "8283             5855  -0.1953 -0.1953  \n",
       "10156            4599  -0.4986 -0.4986  \n",
       "5532             6190  -0.1144 -0.1144  "
      ]
     },
     "execution_count": 92,
     "metadata": {},
     "output_type": "execute_result"
    }
   ],
   "source": [
    "df2['zscore'] = (df2.price_per_sqft - df2.price_per_sqft.mean())/df2.price_per_sqft.std()\n",
    "df2.sample(10)"
   ]
  },
  {
   "cell_type": "code",
   "execution_count": 103,
   "id": "d26bef4f",
   "metadata": {},
   "outputs": [],
   "source": [
    "Outlier3 = df2[(df2.zscore < -4) | (df2.zscore > 4)]"
   ]
  },
  {
   "cell_type": "code",
   "execution_count": 104,
   "id": "a6b33eb4",
   "metadata": {},
   "outputs": [
    {
     "data": {
      "text/html": [
       "<div>\n",
       "<style scoped>\n",
       "    .dataframe tbody tr th:only-of-type {\n",
       "        vertical-align: middle;\n",
       "    }\n",
       "\n",
       "    .dataframe tbody tr th {\n",
       "        vertical-align: top;\n",
       "    }\n",
       "\n",
       "    .dataframe thead th {\n",
       "        text-align: right;\n",
       "    }\n",
       "</style>\n",
       "<table border=\"1\" class=\"dataframe\">\n",
       "  <thead>\n",
       "    <tr style=\"text-align: right;\">\n",
       "      <th></th>\n",
       "      <th>location</th>\n",
       "      <th>size</th>\n",
       "      <th>total_sqft</th>\n",
       "      <th>bath</th>\n",
       "      <th>price</th>\n",
       "      <th>bhk</th>\n",
       "      <th>price_per_sqft</th>\n",
       "      <th>z-score</th>\n",
       "      <th>zscore</th>\n",
       "    </tr>\n",
       "  </thead>\n",
       "  <tbody>\n",
       "    <tr>\n",
       "      <th>9</th>\n",
       "      <td>other</td>\n",
       "      <td>6 Bedroom</td>\n",
       "      <td>1020.0000</td>\n",
       "      <td>6.0000</td>\n",
       "      <td>370.0000</td>\n",
       "      <td>6</td>\n",
       "      <td>36274</td>\n",
       "      <td>7.1505</td>\n",
       "      <td>7.1505</td>\n",
       "    </tr>\n",
       "    <tr>\n",
       "      <th>45</th>\n",
       "      <td>HSR Layout</td>\n",
       "      <td>8 Bedroom</td>\n",
       "      <td>600.0000</td>\n",
       "      <td>9.0000</td>\n",
       "      <td>200.0000</td>\n",
       "      <td>8</td>\n",
       "      <td>33333</td>\n",
       "      <td>6.4403</td>\n",
       "      <td>6.4403</td>\n",
       "    </tr>\n",
       "    <tr>\n",
       "      <th>190</th>\n",
       "      <td>Bellandur</td>\n",
       "      <td>4 Bedroom</td>\n",
       "      <td>1200.0000</td>\n",
       "      <td>5.0000</td>\n",
       "      <td>325.0000</td>\n",
       "      <td>4</td>\n",
       "      <td>27083</td>\n",
       "      <td>4.9310</td>\n",
       "      <td>4.9310</td>\n",
       "    </tr>\n",
       "    <tr>\n",
       "      <th>733</th>\n",
       "      <td>Cunningham Road</td>\n",
       "      <td>4 BHK</td>\n",
       "      <td>5270.0000</td>\n",
       "      <td>4.0000</td>\n",
       "      <td>1250.0000</td>\n",
       "      <td>4</td>\n",
       "      <td>23719</td>\n",
       "      <td>4.1186</td>\n",
       "      <td>4.1186</td>\n",
       "    </tr>\n",
       "    <tr>\n",
       "      <th>760</th>\n",
       "      <td>other</td>\n",
       "      <td>9 Bedroom</td>\n",
       "      <td>600.0000</td>\n",
       "      <td>9.0000</td>\n",
       "      <td>190.0000</td>\n",
       "      <td>9</td>\n",
       "      <td>31666</td>\n",
       "      <td>6.0377</td>\n",
       "      <td>6.0377</td>\n",
       "    </tr>\n",
       "    <tr>\n",
       "      <th>...</th>\n",
       "      <td>...</td>\n",
       "      <td>...</td>\n",
       "      <td>...</td>\n",
       "      <td>...</td>\n",
       "      <td>...</td>\n",
       "      <td>...</td>\n",
       "      <td>...</td>\n",
       "      <td>...</td>\n",
       "      <td>...</td>\n",
       "    </tr>\n",
       "    <tr>\n",
       "      <th>13081</th>\n",
       "      <td>other</td>\n",
       "      <td>6 Bedroom</td>\n",
       "      <td>8000.0000</td>\n",
       "      <td>6.0000</td>\n",
       "      <td>2800.0000</td>\n",
       "      <td>6</td>\n",
       "      <td>35000</td>\n",
       "      <td>6.8428</td>\n",
       "      <td>6.8428</td>\n",
       "    </tr>\n",
       "    <tr>\n",
       "      <th>13094</th>\n",
       "      <td>other</td>\n",
       "      <td>4 Bedroom</td>\n",
       "      <td>1200.0000</td>\n",
       "      <td>5.0000</td>\n",
       "      <td>325.0000</td>\n",
       "      <td>4</td>\n",
       "      <td>27083</td>\n",
       "      <td>4.9310</td>\n",
       "      <td>4.9310</td>\n",
       "    </tr>\n",
       "    <tr>\n",
       "      <th>13127</th>\n",
       "      <td>other</td>\n",
       "      <td>4 Bedroom</td>\n",
       "      <td>1200.0000</td>\n",
       "      <td>5.0000</td>\n",
       "      <td>325.0000</td>\n",
       "      <td>4</td>\n",
       "      <td>27083</td>\n",
       "      <td>4.9310</td>\n",
       "      <td>4.9310</td>\n",
       "    </tr>\n",
       "    <tr>\n",
       "      <th>13185</th>\n",
       "      <td>Hulimavu</td>\n",
       "      <td>1 BHK</td>\n",
       "      <td>500.0000</td>\n",
       "      <td>1.0000</td>\n",
       "      <td>220.0000</td>\n",
       "      <td>1</td>\n",
       "      <td>44000</td>\n",
       "      <td>9.0162</td>\n",
       "      <td>9.0162</td>\n",
       "    </tr>\n",
       "    <tr>\n",
       "      <th>13186</th>\n",
       "      <td>other</td>\n",
       "      <td>4 Bedroom</td>\n",
       "      <td>1200.0000</td>\n",
       "      <td>5.0000</td>\n",
       "      <td>325.0000</td>\n",
       "      <td>4</td>\n",
       "      <td>27083</td>\n",
       "      <td>4.9310</td>\n",
       "      <td>4.9310</td>\n",
       "    </tr>\n",
       "  </tbody>\n",
       "</table>\n",
       "<p>125 rows × 9 columns</p>\n",
       "</div>"
      ],
      "text/plain": [
       "              location       size  total_sqft   bath     price  bhk  \\\n",
       "9                other  6 Bedroom   1020.0000 6.0000  370.0000    6   \n",
       "45          HSR Layout  8 Bedroom    600.0000 9.0000  200.0000    8   \n",
       "190          Bellandur  4 Bedroom   1200.0000 5.0000  325.0000    4   \n",
       "733    Cunningham Road      4 BHK   5270.0000 4.0000 1250.0000    4   \n",
       "760              other  9 Bedroom    600.0000 9.0000  190.0000    9   \n",
       "...                ...        ...         ...    ...       ...  ...   \n",
       "13081            other  6 Bedroom   8000.0000 6.0000 2800.0000    6   \n",
       "13094            other  4 Bedroom   1200.0000 5.0000  325.0000    4   \n",
       "13127            other  4 Bedroom   1200.0000 5.0000  325.0000    4   \n",
       "13185         Hulimavu      1 BHK    500.0000 1.0000  220.0000    1   \n",
       "13186            other  4 Bedroom   1200.0000 5.0000  325.0000    4   \n",
       "\n",
       "       price_per_sqft  z-score  zscore  \n",
       "9               36274   7.1505  7.1505  \n",
       "45              33333   6.4403  6.4403  \n",
       "190             27083   4.9310  4.9310  \n",
       "733             23719   4.1186  4.1186  \n",
       "760             31666   6.0377  6.0377  \n",
       "...               ...      ...     ...  \n",
       "13081           35000   6.8428  6.8428  \n",
       "13094           27083   4.9310  4.9310  \n",
       "13127           27083   4.9310  4.9310  \n",
       "13185           44000   9.0162  9.0162  \n",
       "13186           27083   4.9310  4.9310  \n",
       "\n",
       "[125 rows x 9 columns]"
      ]
     },
     "execution_count": 104,
     "metadata": {},
     "output_type": "execute_result"
    }
   ],
   "source": [
    "Outlier3"
   ]
  },
  {
   "cell_type": "code",
   "execution_count": 105,
   "id": "acf7e13d",
   "metadata": {},
   "outputs": [],
   "source": [
    "df4 = df2[(df2.zscore > -4) & (df2.zscore < 4)]"
   ]
  },
  {
   "cell_type": "code",
   "execution_count": 106,
   "id": "46114134",
   "metadata": {},
   "outputs": [
    {
     "data": {
      "text/plain": [
       "<Axes: xlabel='price_per_sqft', ylabel='Count'>"
      ]
     },
     "execution_count": 106,
     "metadata": {},
     "output_type": "execute_result"
    },
    {
     "data": {
      "image/png": "[encoded data removed]",
      "text/plain": [
       "<Figure size 640x480 with 1 Axes>"
      ]
     },
     "metadata": {},
     "output_type": "display_data"
    }
   ],
   "source": [
    "sn.histplot(df4.price_per_sqft, kde = True, bins = 20)"
   ]
  },
  {
   "cell_type": "code",
   "execution_count": null,
   "id": "fd7677ae",
   "metadata": {},
   "outputs": [],
   "source": []
  }
 ],
 "metadata": {
  "kernelspec": {
   "display_name": "Python 3 (ipykernel)",
   "language": "python",
   "name": "python3"
  },
  "language_info": {
   "codemirror_mode": {
    "name": "ipython",
    "version": 3
   },
   "file_extension": ".py",
   "mimetype": "text/x-python",
   "name": "python",
   "nbconvert_exporter": "python",
   "pygments_lexer": "ipython3",
   "version": "3.11.5"
  }
 },
 "nbformat": 4,
 "nbformat_minor": 5
}
