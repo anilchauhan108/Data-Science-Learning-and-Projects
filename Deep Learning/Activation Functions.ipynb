{
 "cells": [
  {
   "cell_type": "code",
   "execution_count": 6,
   "id": "c674022b",
   "metadata": {},
   "outputs": [],
   "source": [
    "import math\n",
    "\n",
    "def sigmoid(x):                         #gives value between 0 & 1\n",
    "    return 1/ (1 + math.exp(-x))"
   ]
  },
  {
   "cell_type": "code",
   "execution_count": 7,
   "id": "3737c2d4",
   "metadata": {},
   "outputs": [
    {
     "data": {
      "text/plain": [
       "1.0"
      ]
     },
     "execution_count": 7,
     "metadata": {},
     "output_type": "execute_result"
    }
   ],
   "source": [
    "sigmoid(42)"
   ]
  },
  {
   "cell_type": "code",
   "execution_count": 8,
   "id": "fc6a4e4a",
   "metadata": {},
   "outputs": [
    {
     "data": {
      "text/plain": [
       "3.442477108469858e-14"
      ]
     },
     "execution_count": 8,
     "metadata": {},
     "output_type": "execute_result"
    }
   ],
   "source": [
    "sigmoid(-31)"
   ]
  },
  {
   "cell_type": "code",
   "execution_count": 11,
   "id": "e32fc1d9",
   "metadata": {},
   "outputs": [],
   "source": [
    "def tanh(x):                            #gives value between -1 & 1\n",
    "    return (math.exp(x) - math.exp(-x)) / (math.exp(x) + math.exp(-x))"
   ]
  },
  {
   "cell_type": "code",
   "execution_count": 12,
   "id": "d8de0307",
   "metadata": {},
   "outputs": [
    {
     "data": {
      "text/plain": [
       "1.0"
      ]
     },
     "execution_count": 12,
     "metadata": {},
     "output_type": "execute_result"
    }
   ],
   "source": [
    "tanh(52)"
   ]
  },
  {
   "cell_type": "code",
   "execution_count": 13,
   "id": "d450d870",
   "metadata": {},
   "outputs": [
    {
     "data": {
      "text/plain": [
       "-1.0"
      ]
     },
     "execution_count": 13,
     "metadata": {},
     "output_type": "execute_result"
    }
   ],
   "source": [
    "tanh(-152)"
   ]
  },
  {
   "cell_type": "code",
   "execution_count": 14,
   "id": "582fce3b",
   "metadata": {},
   "outputs": [],
   "source": [
    "def relu(x):                           #gives value between 0 & x\n",
    "    return max(0,x)"
   ]
  },
  {
   "cell_type": "code",
   "execution_count": 15,
   "id": "80c40ad1",
   "metadata": {},
   "outputs": [
    {
     "data": {
      "text/plain": [
       "3"
      ]
     },
     "execution_count": 15,
     "metadata": {},
     "output_type": "execute_result"
    }
   ],
   "source": [
    "relu(3)"
   ]
  },
  {
   "cell_type": "code",
   "execution_count": 16,
   "id": "06ee9f7e",
   "metadata": {},
   "outputs": [
    {
     "data": {
      "text/plain": [
       "0"
      ]
     },
     "execution_count": 16,
     "metadata": {},
     "output_type": "execute_result"
    }
   ],
   "source": [
    "relu(-13)"
   ]
  },
  {
   "cell_type": "code",
   "execution_count": 17,
   "id": "a5d239f4",
   "metadata": {},
   "outputs": [],
   "source": [
    "def leaky_relu(x):                    #gives value between 0.1x & x\n",
    "    return max(0.1*x,x)"
   ]
  },
  {
   "cell_type": "code",
   "execution_count": 18,
   "id": "ddab77e6",
   "metadata": {},
   "outputs": [
    {
     "data": {
      "text/plain": [
       "113"
      ]
     },
     "execution_count": 18,
     "metadata": {},
     "output_type": "execute_result"
    }
   ],
   "source": [
    "leaky_relu(113)"
   ]
  },
  {
   "cell_type": "code",
   "execution_count": 19,
   "id": "a5f2ffbc",
   "metadata": {},
   "outputs": [
    {
     "data": {
      "text/plain": [
       "-12.3"
      ]
     },
     "execution_count": 19,
     "metadata": {},
     "output_type": "execute_result"
    }
   ],
   "source": [
    "leaky_relu(-123)"
   ]
  },
  {
   "cell_type": "code",
   "execution_count": null,
   "id": "64738527",
   "metadata": {},
   "outputs": [],
   "source": []
  }
 ],
 "metadata": {
  "kernelspec": {
   "display_name": "Python 3 (ipykernel)",
   "language": "python",
   "name": "python3"
  },
  "language_info": {
   "codemirror_mode": {
    "name": "ipython",
    "version": 3
   },
   "file_extension": ".py",
   "mimetype": "text/x-python",
   "name": "python",
   "nbconvert_exporter": "python",
   "pygments_lexer": "ipython3",
   "version": "3.11.5"
  }
 },
 "nbformat": 4,
 "nbformat_minor": 5
}
